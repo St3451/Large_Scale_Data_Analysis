{
  "nbformat": 4,
  "nbformat_minor": 0,
  "metadata": {
    "kernelspec": {
      "name": "python3",
      "display_name": "Python 3"
    },
    "language_info": {
      "codemirror_mode": {
        "name": "ipython",
        "version": 3
      },
      "file_extension": ".py",
      "mimetype": "text/x-python",
      "name": "python",
      "nbconvert_exporter": "python",
      "pygments_lexer": "ipython3",
      "version": "3.6.10"
    },
    "colab": {
      "name": "HW2_exercise1.ipynb",
      "provenance": [],
      "collapsed_sections": []
    }
  },
  "cells": [
    {
      "cell_type": "markdown",
      "metadata": {
        "id": "H0vPuJc0Bdda",
        "colab_type": "text"
      },
      "source": [
        "# Ex. 1. Standard Neural Network"
      ]
    },
    {
      "cell_type": "code",
      "metadata": {
        "id": "5YkvUiAmRo5o",
        "colab_type": "code",
        "outputId": "eee3e061-d87d-427d-81b5-81ba174453d2",
        "colab": {
          "base_uri": "https://localhost:8080/",
          "height": 35
        }
      },
      "source": [
        "%tensorflow_version 2.x\n",
        "import tensorflow as tf\n",
        "import matplotlib.pyplot as plt \n",
        "import numpy as np\n",
        "import pathlib\n",
        "import os\n",
        "\n",
        "print(\"TensorFlow version:\", tf.__version__)\n",
        "AUTOTUNE = tf.data.experimental.AUTOTUNE"
      ],
      "execution_count": 7,
      "outputs": [
        {
          "output_type": "stream",
          "text": [
            "TensorFlow version: 2.2.0\n"
          ],
          "name": "stdout"
        }
      ]
    },
    {
      "cell_type": "markdown",
      "metadata": {
        "id": "jSiPDJWlCsUS",
        "colab_type": "text"
      },
      "source": [
        "### Ex 1.1.\n",
        "### Add a layer (tf.keras.layers.Dense) with 32 neurons and sigmoid activation function directly before the layer with the name “output”. Show the code in your report.\n"
      ]
    },
    {
      "cell_type": "code",
      "metadata": {
        "id": "hDuA4oQbBS2k",
        "colab_type": "code",
        "colab": {
          "base_uri": "https://localhost:8080/",
          "height": 260
        },
        "outputId": "1fb0150c-6338-44b3-f324-77c7d4cf5de4"
      },
      "source": [
        "model = tf.keras.models.Sequential([ \n",
        "    tf.keras.layers.Dense(64, activation=\"sigmoid\", \n",
        "                              input_shape=(1,), \n",
        "                              name=\"hidden1\"), \n",
        "    tf.keras.layers.Dense(32, activation=\"sigmoid\", \n",
        "                              name=\"hidden2\"), \n",
        "    tf.keras.layers.Dense(1, activation=\"linear\", name=\"output\")])\n",
        "\n",
        "model.summary()\n",
        "tf.keras.backend.clear_session()"
      ],
      "execution_count": 11,
      "outputs": [
        {
          "output_type": "stream",
          "text": [
            "Model: \"sequential\"\n",
            "_________________________________________________________________\n",
            "Layer (type)                 Output Shape              Param #   \n",
            "=================================================================\n",
            "hidden1 (Dense)              (None, 64)                128       \n",
            "_________________________________________________________________\n",
            "hidden2 (Dense)              (None, 32)                2080      \n",
            "_________________________________________________________________\n",
            "output (Dense)               (None, 1)                 33        \n",
            "=================================================================\n",
            "Total params: 2,241\n",
            "Trainable params: 2,241\n",
            "Non-trainable params: 0\n",
            "_________________________________________________________________\n"
          ],
          "name": "stdout"
        }
      ]
    },
    {
      "cell_type": "markdown",
      "metadata": {
        "id": "I6k0V4WDC0Wt",
        "colab_type": "text"
      },
      "source": [
        "### Ex 1.2.\n",
        "#### Rewrite the model (including the new layer) using the functional functional API. Show the code in your report.\n",
        "\n"
      ]
    },
    {
      "cell_type": "code",
      "metadata": {
        "id": "ZhGrd_6QDFWR",
        "colab_type": "code",
        "outputId": "cacfbe41-8617-4b28-e458-617e02f31871",
        "colab": {
          "base_uri": "https://localhost:8080/",
          "height": 295
        }
      },
      "source": [
        "inputs = tf.keras.Input(shape=(1,))\n",
        "l1 = tf.keras.layers.Dense(64, activation=\"sigmoid\",\n",
        "                              name=\"hidden1\")(inputs)\n",
        "l2 = tf.keras.layers.Dense(32, activation=\"sigmoid\",\n",
        "                              name=\"hidden2\")(l1)\n",
        "output = tf.keras.layers.Dense(1, activation=\"linear\",\n",
        "                              name=\"output\")(l2)\n",
        "\n",
        "model = tf.keras.Model(inputs=inputs, outputs=output)\n",
        "\n",
        "model.summary()\n",
        "tf.keras.backend.clear_session()"
      ],
      "execution_count": 12,
      "outputs": [
        {
          "output_type": "stream",
          "text": [
            "Model: \"model\"\n",
            "_________________________________________________________________\n",
            "Layer (type)                 Output Shape              Param #   \n",
            "=================================================================\n",
            "input_1 (InputLayer)         [(None, 1)]               0         \n",
            "_________________________________________________________________\n",
            "hidden1 (Dense)              (None, 64)                128       \n",
            "_________________________________________________________________\n",
            "hidden2 (Dense)              (None, 32)                2080      \n",
            "_________________________________________________________________\n",
            "output (Dense)               (None, 1)                 33        \n",
            "=================================================================\n",
            "Total params: 2,241\n",
            "Trainable params: 2,241\n",
            "Non-trainable params: 0\n",
            "_________________________________________________________________\n"
          ],
          "name": "stdout"
        }
      ]
    },
    {
      "cell_type": "code",
      "metadata": {
        "id": "XCOIZ3ZPqQ0K",
        "colab_type": "code",
        "colab": {}
      },
      "source": [
        "tf.keras.backend.clear_session()"
      ],
      "execution_count": 0,
      "outputs": []
    },
    {
      "cell_type": "markdown",
      "metadata": {
        "id": "KDufyPRSgmLs",
        "colab_type": "text"
      },
      "source": [
        "### Ex1.3. \n",
        "#### Add a shortcut connection from the input layer to the last layer. Report the number of trainable parameters of the resulting model. Show the code in your report.\n"
      ]
    },
    {
      "cell_type": "code",
      "metadata": {
        "id": "x_T4ZsNbVgY8",
        "colab_type": "code",
        "outputId": "4fbe9c70-c17b-4b86-ec08-77eb6a1fc932",
        "colab": {
          "base_uri": "https://localhost:8080/",
          "height": 863
        }
      },
      "source": [
        "inputs = tf.keras.Input(shape=(1,))\n",
        "l1 = tf.keras.layers.Dense(64, activation=\"sigmoid\",\n",
        "                              name=\"hidden1\")(inputs)\n",
        "l2 = tf.keras.layers.Dense(32, activation=\"sigmoid\",\n",
        "                              name=\"hidden2\")(l1)\n",
        "l3 = tf.keras.layers.concatenate([inputs, l2],\n",
        "                                 name=\"shortcut\")\n",
        "output = tf.keras.layers.Dense(1, activation=\"linear\",\n",
        "                              name=\"output\")(l3)\n",
        "\n",
        "model = tf.keras.Model(inputs=inputs, outputs=output)\n",
        "\n",
        "model.summary()\n",
        "tf.keras.utils.plot_model(model, \"mini_resnet.png\", show_shapes=True)"
      ],
      "execution_count": 13,
      "outputs": [
        {
          "output_type": "stream",
          "text": [
            "Model: \"model\"\n",
            "__________________________________________________________________________________________________\n",
            "Layer (type)                    Output Shape         Param #     Connected to                     \n",
            "==================================================================================================\n",
            "input_1 (InputLayer)            [(None, 1)]          0                                            \n",
            "__________________________________________________________________________________________________\n",
            "hidden1 (Dense)                 (None, 64)           128         input_1[0][0]                    \n",
            "__________________________________________________________________________________________________\n",
            "hidden2 (Dense)                 (None, 32)           2080        hidden1[0][0]                    \n",
            "__________________________________________________________________________________________________\n",
            "shortcut (Concatenate)          (None, 33)           0           input_1[0][0]                    \n",
            "                                                                 hidden2[0][0]                    \n",
            "__________________________________________________________________________________________________\n",
            "output (Dense)                  (None, 1)            34          shortcut[0][0]                   \n",
            "==================================================================================================\n",
            "Total params: 2,242\n",
            "Trainable params: 2,242\n",
            "Non-trainable params: 0\n",
            "__________________________________________________________________________________________________\n"
          ],
          "name": "stdout"
        },
        {
          "output_type": "execute_result",
          "data": {
            "image/png": "[encoded data removed]",
            "text/plain": [
              "<IPython.core.display.Image object>"
            ]
          },
          "metadata": {
            "tags": []
          },
          "execution_count": 13
        }
      ]
    },
    {
      "cell_type": "markdown",
      "metadata": {
        "id": "ZToeO6-HH7Ss",
        "colab_type": "text"
      },
      "source": [
        "The total number of parameters is: 3296  \n",
        "There are 128 parameters (weights and biases) in the first hidden layer, 2080 in the second hidden layer and 1088 in the output layer."
      ]
    }
  ]
}