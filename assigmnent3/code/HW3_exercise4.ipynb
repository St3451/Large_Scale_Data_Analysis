{
  "nbformat": 4,
  "nbformat_minor": 0,
  "metadata": {
    "kernelspec": {
      "display_name": "Python 3",
      "language": "python",
      "name": "python3"
    },
    "language_info": {
      "codemirror_mode": {
        "name": "ipython",
        "version": 3
      },
      "file_extension": ".py",
      "mimetype": "text/x-python",
      "name": "python",
      "nbconvert_exporter": "python",
      "pygments_lexer": "ipython3",
      "version": "3.7.7"
    },
    "colab": {
      "name": "LSDA2020_RNN2_(1) (1).ipynb",
      "provenance": [],
      "collapsed_sections": [
        "ugreJAA-tm0Z",
        "oT7CISKatm1A",
        "DDBYvy42tm2Y"
      ]
    }
  },
  "cells": [
    {
      "cell_type": "markdown",
      "metadata": {
        "id": "UZ4cWIGatmyz",
        "colab_type": "text"
      },
      "source": [
        "# Long Short-Term Memory (LSTM)\n",
        "- 4 times more parameters than the simple RNN\n",
        "- Mitigates vanishing gradient problem through gating\n",
        "- Used for a long time with a lot of success, still SOTA in many applications\n",
        "- Popular variant: Gated Recurrent Units (GRU)\n",
        "\n",
        "**Gating Mechanism**\n",
        "* Prominent in neural network algorithms, e.g. attention, LSTM, short cut connections.\n",
        "* A gating function determines if information is propagated or ommited"
      ]
    },
    {
      "cell_type": "markdown",
      "metadata": {
        "id": "_Hn0FEsetmy1",
        "colab_type": "text"
      },
      "source": [
        "## **Definition**\n",
        "\n",
        "|||\n",
        "|-------------|---------------------------------------------------------------------|\n",
        "|hidden state | $\\mathbf{h}_t \\leftarrow \\mathbf{o}_t \\circ \\sigma_h(\\mathbf{c}_t)$ |\n",
        "|cell state   | $\\mathbf{c}_t \\leftarrow \\mathbf{f}_t \\circ \\mathbf{c}_{t-1} + \\mathbf{i}_t \\circ \\mathbf{j}_t $ |\n",
        "|output gate  | $\\mathbf{o}_t \\leftarrow \\sigma_o(W_o \\cdot \\mathbf{x}_t + U_o \\cdot \\mathbf{h}_{t-1} + \\mathbf{b}_o)$ |\n",
        "|forget gate  | $\\mathbf{f}_t \\leftarrow \\sigma_f(W_f \\cdot \\mathbf{x}_t + U_f \\cdot \\mathbf{h}_{t-1} + \\mathbf{b}_f)$ |\n",
        "|input gate   | $\\mathbf{i}_t \\leftarrow \\sigma_i(W_i \\cdot \\mathbf{x}_t + U_i \\cdot \\mathbf{h}_{t-1} + \\mathbf{b}_i)$|\n",
        "|modulation gate| $\\mathbf{j}_t \\leftarrow \\sigma_j(W_j \\cdot \\mathbf{x}_t + U_j \\cdot \\mathbf{h}_{t-1} + \\mathbf{b}_j)$ |\n",
        "\n",
        "- $W \\in \\mathbb{R}^{m \\times d}$ weight matrices for input vector $\\mathbf{x}_t$\n",
        "- $U \\in \\mathbb{R}^{m \\times m}$ weight matrices for hidden state vector $\\mathbf{h}_{t-1}$\n",
        "- activation functions $\\sigma_h$ and $\\sigma_j$ are usually $tanh$\n",
        "- activation functions $\\sigma_f$, $\\sigma_i$, and $\\sigma_o$ are usually $sigmoid$\n",
        "- element-wise multiplication is $\\circ$\n",
        "    * important for gating (all values between usually between -1 and 1 (tanh) or 0 and 1 (sigmoid)\n",
        "- cell state $\\mathbf{c}$ : stores contextual and longer term information\n",
        "- hidden state $\\mathbf{h}$ : stores immediately necessary information and **is given to next layer**\n",
        "![lstm_sideways.svg](attachment:lstm_sideways.svg)\n"
      ]
    },
    {
      "cell_type": "markdown",
      "metadata": {
        "id": "PJ1y7E7ntmy3",
        "colab_type": "text"
      },
      "source": [
        "### Comparison between fully connected, RNN, and LSTM:\n",
        "\n",
        "![image.png](attachment:image.png)"
      ]
    },
    {
      "cell_type": "markdown",
      "metadata": {
        "id": "_fbcsLAHtmy4",
        "colab_type": "text"
      },
      "source": [
        "# More Techniques"
      ]
    },
    {
      "cell_type": "markdown",
      "metadata": {
        "id": "6k4MLxZLtmy5",
        "colab_type": "text"
      },
      "source": [
        "### Bidirectional RNNs\n",
        "\n",
        "instead of only reading the time series left to right, also read it backwards.\n",
        "\n",
        "- 2 RNN (LSTM) layer at the same abstraction, one reads forward, the other backwards\n",
        "- output of both get concatenated, summed up, or selected via attention module\n",
        "- backwards layer alone usually shows worse performance, but combined information from before and after can be utilized\n",
        "- not applicable to online learning (new time step would require to do complete backward layer pass)\n",
        "- also complicated for truncated backprop\n",
        "\n",
        "![image.png](attachment:image.png)"
      ]
    },
    {
      "cell_type": "markdown",
      "metadata": {
        "id": "UPDz6fhAtmy7",
        "colab_type": "text"
      },
      "source": [
        "<!-- ### Preprocess signal\n",
        "is the addition of 1-D convolution layers to the model. They prepare the signal for following RNN layers. *Careful*: the kernel size of the convolution layers should be choosen carefully. -->"
      ]
    },
    {
      "cell_type": "markdown",
      "metadata": {
        "id": "3TEfPKsNtmy8",
        "colab_type": "text"
      },
      "source": [
        "### Stacking LSTM layers\n",
        "can be done to achieve deeper abstractions, but is computationally demanding. "
      ]
    },
    {
      "cell_type": "markdown",
      "metadata": {
        "id": "J44qPT0ptmy9",
        "colab_type": "text"
      },
      "source": [
        "### Gradient Clipping\n",
        "prevents exploding gradients due to bad initial weights, or outlier input.\n",
        "Abnormally big gradients cannot get larger than specific value g:\n",
        "$ dW = min(dW, g) $, which helps to smoothen out *bad* weight updates.\n",
        "\n",
        "The clipping value $g$ is chosen by looking at the average gradients, often it is in the range from 1 to 10.\n"
      ]
    },
    {
      "cell_type": "markdown",
      "metadata": {
        "id": "hFuTRwnQtmy-",
        "colab_type": "text"
      },
      "source": [
        "# Application: How Much Did it Rain? 2\n",
        "https://www.kaggle.com/c/how-much-did-it-rain-ii/data\n",
        "\n",
        "![image.png](attachment:image.png)"
      ]
    },
    {
      "cell_type": "markdown",
      "metadata": {
        "id": "YS-XbYnKtmzA",
        "colab_type": "text"
      },
      "source": [
        "Input: polarimetric radar values\n",
        "\n",
        "Target: the hourly rain gauge total"
      ]
    },
    {
      "cell_type": "code",
      "metadata": {
        "scrolled": false,
        "id": "9kpEw5NztmzC",
        "colab_type": "code",
        "outputId": "8e60968c-c956-4266-a032-cec4a9183e07",
        "colab": {
          "base_uri": "https://localhost:8080/",
          "height": 208
        }
      },
      "source": [
        "import os\n",
        "# windows:\n",
        "if os.name == 'nt':\n",
        "    !python -m wget https://sid.erda.dk/share_redirect/DCadcaIwQV\n",
        "# linux:\n",
        "else:\n",
        "    !wget https://sid.erda.dk/share_redirect/DCadcaIwQV"
      ],
      "execution_count": 1,
      "outputs": [
        {
          "output_type": "stream",
          "text": [
            "--2020-05-28 23:59:19--  https://sid.erda.dk/share_redirect/DCadcaIwQV\n",
            "Resolving sid.erda.dk (sid.erda.dk)... 130.225.104.13\n",
            "Connecting to sid.erda.dk (sid.erda.dk)|130.225.104.13|:443... connected.\n",
            "HTTP request sent, awaiting response... 200 OK\n",
            "Length: 225182067 (215M)\n",
            "Saving to: ‘DCadcaIwQV’\n",
            "\n",
            "DCadcaIwQV          100%[===================>] 214.75M  23.9MB/s    in 10s     \n",
            "\n",
            "2020-05-28 23:59:29 (21.3 MB/s) - ‘DCadcaIwQV’ saved [225182067/225182067]\n",
            "\n"
          ],
          "name": "stdout"
        }
      ]
    },
    {
      "cell_type": "code",
      "metadata": {
        "id": "ysI_wXQEtmzO",
        "colab_type": "code",
        "outputId": "f3185478-dc1a-4f66-b814-fad8d7810b63",
        "colab": {
          "base_uri": "https://localhost:8080/",
          "height": 52
        }
      },
      "source": [
        "!unzip DCadcaIwQV"
      ],
      "execution_count": 2,
      "outputs": [
        {
          "output_type": "stream",
          "text": [
            "Archive:  DCadcaIwQV\n",
            "  inflating: data.csv                \n"
          ],
          "name": "stdout"
        }
      ]
    },
    {
      "cell_type": "code",
      "metadata": {
        "_cell_guid": "b1076dfc-b9ad-4769-8c92-a6c4dae69d19",
        "_uuid": "8f2839f25d086af736a60e9eeb907d3b93b6e0e5",
        "id": "zHm65eattmzW",
        "colab_type": "code",
        "colab": {}
      },
      "source": [
        "# linear algebra\n",
        "import numpy as np \n",
        "# data processing\n",
        "import pandas as pd \n",
        "\n",
        "DATA_DIR = \".\""
      ],
      "execution_count": 0,
      "outputs": []
    },
    {
      "cell_type": "markdown",
      "metadata": {
        "id": "wXaFbyh1tmze",
        "colab_type": "text"
      },
      "source": [
        "## 1. Import training data and extract ids"
      ]
    },
    {
      "cell_type": "code",
      "metadata": {
        "_cell_guid": "79c7e3d0-c299-4dcb-8224-4455121ee9b0",
        "_uuid": "d629ff2d2480ee46fbb7e2d37f6b5fab8052498a",
        "id": "JdXL1nVvtmzf",
        "colab_type": "code",
        "colab": {}
      },
      "source": [
        "# load dataset (only 300000 entries)\n",
        "data = pd.read_csv(f'{DATA_DIR}/data.csv', nrows=300000)\n",
        "# get all ids\n",
        "raw_ids_all = data[\"Id\"]\n",
        "# identify unique ids (one id belongs to a single time series)\n",
        "raw_ids = raw_ids_all.unique()\n"
      ],
      "execution_count": 0,
      "outputs": []
    },
    {
      "cell_type": "code",
      "metadata": {
        "id": "2PJm2tzstmzn",
        "colab_type": "code",
        "colab": {
          "base_uri": "https://localhost:8080/",
          "height": 435
        },
        "outputId": "57c373ca-bda6-464a-9388-6ed9b691684b"
      },
      "source": [
        "# let's look at the data\n",
        "data"
      ],
      "execution_count": 5,
      "outputs": [
        {
          "output_type": "execute_result",
          "data": {
            "text/html": [
              "<div>\n",
              "<style scoped>\n",
              "    .dataframe tbody tr th:only-of-type {\n",
              "        vertical-align: middle;\n",
              "    }\n",
              "\n",
              "    .dataframe tbody tr th {\n",
              "        vertical-align: top;\n",
              "    }\n",
              "\n",
              "    .dataframe thead th {\n",
              "        text-align: right;\n",
              "    }\n",
              "</style>\n",
              "<table border=\"1\" class=\"dataframe\">\n",
              "  <thead>\n",
              "    <tr style=\"text-align: right;\">\n",
              "      <th></th>\n",
              "      <th>Id</th>\n",
              "      <th>minutes_past</th>\n",
              "      <th>radardist_km</th>\n",
              "      <th>Ref</th>\n",
              "      <th>Ref_5x5_10th</th>\n",
              "      <th>Ref_5x5_50th</th>\n",
              "      <th>Ref_5x5_90th</th>\n",
              "      <th>RefComposite</th>\n",
              "      <th>RefComposite_5x5_10th</th>\n",
              "      <th>RefComposite_5x5_50th</th>\n",
              "      <th>RefComposite_5x5_90th</th>\n",
              "      <th>RhoHV</th>\n",
              "      <th>RhoHV_5x5_10th</th>\n",
              "      <th>RhoHV_5x5_50th</th>\n",
              "      <th>RhoHV_5x5_90th</th>\n",
              "      <th>Zdr</th>\n",
              "      <th>Zdr_5x5_10th</th>\n",
              "      <th>Zdr_5x5_50th</th>\n",
              "      <th>Zdr_5x5_90th</th>\n",
              "      <th>Kdp</th>\n",
              "      <th>Kdp_5x5_10th</th>\n",
              "      <th>Kdp_5x5_50th</th>\n",
              "      <th>Kdp_5x5_90th</th>\n",
              "      <th>Expected</th>\n",
              "    </tr>\n",
              "  </thead>\n",
              "  <tbody>\n",
              "    <tr>\n",
              "      <th>0</th>\n",
              "      <td>1</td>\n",
              "      <td>3</td>\n",
              "      <td>10.0</td>\n",
              "      <td>NaN</td>\n",
              "      <td>NaN</td>\n",
              "      <td>NaN</td>\n",
              "      <td>NaN</td>\n",
              "      <td>NaN</td>\n",
              "      <td>NaN</td>\n",
              "      <td>NaN</td>\n",
              "      <td>NaN</td>\n",
              "      <td>NaN</td>\n",
              "      <td>NaN</td>\n",
              "      <td>NaN</td>\n",
              "      <td>NaN</td>\n",
              "      <td>NaN</td>\n",
              "      <td>NaN</td>\n",
              "      <td>NaN</td>\n",
              "      <td>NaN</td>\n",
              "      <td>NaN</td>\n",
              "      <td>NaN</td>\n",
              "      <td>NaN</td>\n",
              "      <td>NaN</td>\n",
              "      <td>0.254</td>\n",
              "    </tr>\n",
              "    <tr>\n",
              "      <th>1</th>\n",
              "      <td>1</td>\n",
              "      <td>16</td>\n",
              "      <td>10.0</td>\n",
              "      <td>NaN</td>\n",
              "      <td>NaN</td>\n",
              "      <td>NaN</td>\n",
              "      <td>NaN</td>\n",
              "      <td>NaN</td>\n",
              "      <td>NaN</td>\n",
              "      <td>NaN</td>\n",
              "      <td>NaN</td>\n",
              "      <td>NaN</td>\n",
              "      <td>NaN</td>\n",
              "      <td>NaN</td>\n",
              "      <td>NaN</td>\n",
              "      <td>NaN</td>\n",
              "      <td>NaN</td>\n",
              "      <td>NaN</td>\n",
              "      <td>NaN</td>\n",
              "      <td>NaN</td>\n",
              "      <td>NaN</td>\n",
              "      <td>NaN</td>\n",
              "      <td>NaN</td>\n",
              "      <td>0.254</td>\n",
              "    </tr>\n",
              "    <tr>\n",
              "      <th>2</th>\n",
              "      <td>1</td>\n",
              "      <td>25</td>\n",
              "      <td>10.0</td>\n",
              "      <td>NaN</td>\n",
              "      <td>NaN</td>\n",
              "      <td>NaN</td>\n",
              "      <td>NaN</td>\n",
              "      <td>NaN</td>\n",
              "      <td>NaN</td>\n",
              "      <td>NaN</td>\n",
              "      <td>NaN</td>\n",
              "      <td>NaN</td>\n",
              "      <td>NaN</td>\n",
              "      <td>NaN</td>\n",
              "      <td>NaN</td>\n",
              "      <td>NaN</td>\n",
              "      <td>NaN</td>\n",
              "      <td>NaN</td>\n",
              "      <td>NaN</td>\n",
              "      <td>NaN</td>\n",
              "      <td>NaN</td>\n",
              "      <td>NaN</td>\n",
              "      <td>NaN</td>\n",
              "      <td>0.254</td>\n",
              "    </tr>\n",
              "    <tr>\n",
              "      <th>3</th>\n",
              "      <td>1</td>\n",
              "      <td>35</td>\n",
              "      <td>10.0</td>\n",
              "      <td>NaN</td>\n",
              "      <td>NaN</td>\n",
              "      <td>NaN</td>\n",
              "      <td>NaN</td>\n",
              "      <td>NaN</td>\n",
              "      <td>NaN</td>\n",
              "      <td>NaN</td>\n",
              "      <td>NaN</td>\n",
              "      <td>NaN</td>\n",
              "      <td>NaN</td>\n",
              "      <td>NaN</td>\n",
              "      <td>NaN</td>\n",
              "      <td>NaN</td>\n",
              "      <td>NaN</td>\n",
              "      <td>NaN</td>\n",
              "      <td>NaN</td>\n",
              "      <td>NaN</td>\n",
              "      <td>NaN</td>\n",
              "      <td>NaN</td>\n",
              "      <td>NaN</td>\n",
              "      <td>0.254</td>\n",
              "    </tr>\n",
              "    <tr>\n",
              "      <th>4</th>\n",
              "      <td>1</td>\n",
              "      <td>45</td>\n",
              "      <td>10.0</td>\n",
              "      <td>NaN</td>\n",
              "      <td>NaN</td>\n",
              "      <td>NaN</td>\n",
              "      <td>NaN</td>\n",
              "      <td>NaN</td>\n",
              "      <td>NaN</td>\n",
              "      <td>NaN</td>\n",
              "      <td>NaN</td>\n",
              "      <td>NaN</td>\n",
              "      <td>NaN</td>\n",
              "      <td>NaN</td>\n",
              "      <td>NaN</td>\n",
              "      <td>NaN</td>\n",
              "      <td>NaN</td>\n",
              "      <td>NaN</td>\n",
              "      <td>NaN</td>\n",
              "      <td>NaN</td>\n",
              "      <td>NaN</td>\n",
              "      <td>NaN</td>\n",
              "      <td>NaN</td>\n",
              "      <td>0.254</td>\n",
              "    </tr>\n",
              "    <tr>\n",
              "      <th>...</th>\n",
              "      <td>...</td>\n",
              "      <td>...</td>\n",
              "      <td>...</td>\n",
              "      <td>...</td>\n",
              "      <td>...</td>\n",
              "      <td>...</td>\n",
              "      <td>...</td>\n",
              "      <td>...</td>\n",
              "      <td>...</td>\n",
              "      <td>...</td>\n",
              "      <td>...</td>\n",
              "      <td>...</td>\n",
              "      <td>...</td>\n",
              "      <td>...</td>\n",
              "      <td>...</td>\n",
              "      <td>...</td>\n",
              "      <td>...</td>\n",
              "      <td>...</td>\n",
              "      <td>...</td>\n",
              "      <td>...</td>\n",
              "      <td>...</td>\n",
              "      <td>...</td>\n",
              "      <td>...</td>\n",
              "      <td>...</td>\n",
              "    </tr>\n",
              "    <tr>\n",
              "      <th>299995</th>\n",
              "      <td>26624</td>\n",
              "      <td>5</td>\n",
              "      <td>1.0</td>\n",
              "      <td>12.5</td>\n",
              "      <td>6.5</td>\n",
              "      <td>8.5</td>\n",
              "      <td>14.5</td>\n",
              "      <td>12.5</td>\n",
              "      <td>8.5</td>\n",
              "      <td>10.5</td>\n",
              "      <td>18.0</td>\n",
              "      <td>0.555000</td>\n",
              "      <td>0.548333</td>\n",
              "      <td>0.885000</td>\n",
              "      <td>0.998333</td>\n",
              "      <td>-1.1250</td>\n",
              "      <td>-3.5625</td>\n",
              "      <td>-0.9375</td>\n",
              "      <td>0.2500</td>\n",
              "      <td>9.399994</td>\n",
              "      <td>NaN</td>\n",
              "      <td>NaN</td>\n",
              "      <td>9.759995</td>\n",
              "      <td>0.254</td>\n",
              "    </tr>\n",
              "    <tr>\n",
              "      <th>299996</th>\n",
              "      <td>26624</td>\n",
              "      <td>10</td>\n",
              "      <td>1.0</td>\n",
              "      <td>1.5</td>\n",
              "      <td>1.5</td>\n",
              "      <td>7.0</td>\n",
              "      <td>13.5</td>\n",
              "      <td>6.5</td>\n",
              "      <td>6.5</td>\n",
              "      <td>9.0</td>\n",
              "      <td>13.5</td>\n",
              "      <td>0.875000</td>\n",
              "      <td>0.535000</td>\n",
              "      <td>0.875000</td>\n",
              "      <td>0.998333</td>\n",
              "      <td>-1.1875</td>\n",
              "      <td>-2.8125</td>\n",
              "      <td>-0.7500</td>\n",
              "      <td>0.6250</td>\n",
              "      <td>NaN</td>\n",
              "      <td>NaN</td>\n",
              "      <td>NaN</td>\n",
              "      <td>-2.110001</td>\n",
              "      <td>0.254</td>\n",
              "    </tr>\n",
              "    <tr>\n",
              "      <th>299997</th>\n",
              "      <td>26624</td>\n",
              "      <td>14</td>\n",
              "      <td>1.0</td>\n",
              "      <td>8.5</td>\n",
              "      <td>2.5</td>\n",
              "      <td>6.5</td>\n",
              "      <td>24.5</td>\n",
              "      <td>9.5</td>\n",
              "      <td>6.0</td>\n",
              "      <td>9.5</td>\n",
              "      <td>24.5</td>\n",
              "      <td>0.991667</td>\n",
              "      <td>0.655000</td>\n",
              "      <td>0.958333</td>\n",
              "      <td>1.001667</td>\n",
              "      <td>-0.3125</td>\n",
              "      <td>-3.1250</td>\n",
              "      <td>-0.3125</td>\n",
              "      <td>6.8750</td>\n",
              "      <td>NaN</td>\n",
              "      <td>NaN</td>\n",
              "      <td>NaN</td>\n",
              "      <td>-3.169998</td>\n",
              "      <td>0.254</td>\n",
              "    </tr>\n",
              "    <tr>\n",
              "      <th>299998</th>\n",
              "      <td>26624</td>\n",
              "      <td>19</td>\n",
              "      <td>1.0</td>\n",
              "      <td>7.0</td>\n",
              "      <td>-0.5</td>\n",
              "      <td>7.0</td>\n",
              "      <td>12.0</td>\n",
              "      <td>7.0</td>\n",
              "      <td>6.5</td>\n",
              "      <td>9.0</td>\n",
              "      <td>14.0</td>\n",
              "      <td>1.001667</td>\n",
              "      <td>0.935000</td>\n",
              "      <td>0.998333</td>\n",
              "      <td>1.005000</td>\n",
              "      <td>0.0000</td>\n",
              "      <td>-0.8125</td>\n",
              "      <td>0.1250</td>\n",
              "      <td>0.6875</td>\n",
              "      <td>NaN</td>\n",
              "      <td>NaN</td>\n",
              "      <td>NaN</td>\n",
              "      <td>NaN</td>\n",
              "      <td>0.254</td>\n",
              "    </tr>\n",
              "    <tr>\n",
              "      <th>299999</th>\n",
              "      <td>26624</td>\n",
              "      <td>23</td>\n",
              "      <td>1.0</td>\n",
              "      <td>6.5</td>\n",
              "      <td>3.0</td>\n",
              "      <td>6.5</td>\n",
              "      <td>10.0</td>\n",
              "      <td>6.5</td>\n",
              "      <td>6.5</td>\n",
              "      <td>8.0</td>\n",
              "      <td>13.5</td>\n",
              "      <td>1.001667</td>\n",
              "      <td>0.968333</td>\n",
              "      <td>1.001667</td>\n",
              "      <td>1.008333</td>\n",
              "      <td>0.0000</td>\n",
              "      <td>-0.1875</td>\n",
              "      <td>0.0625</td>\n",
              "      <td>1.2500</td>\n",
              "      <td>NaN</td>\n",
              "      <td>NaN</td>\n",
              "      <td>NaN</td>\n",
              "      <td>NaN</td>\n",
              "      <td>0.254</td>\n",
              "    </tr>\n",
              "  </tbody>\n",
              "</table>\n",
              "<p>300000 rows × 24 columns</p>\n",
              "</div>"
            ],
            "text/plain": [
              "           Id  minutes_past  radardist_km  ...  Kdp_5x5_50th  Kdp_5x5_90th  Expected\n",
              "0           1             3          10.0  ...           NaN           NaN     0.254\n",
              "1           1            16          10.0  ...           NaN           NaN     0.254\n",
              "2           1            25          10.0  ...           NaN           NaN     0.254\n",
              "3           1            35          10.0  ...           NaN           NaN     0.254\n",
              "4           1            45          10.0  ...           NaN           NaN     0.254\n",
              "...       ...           ...           ...  ...           ...           ...       ...\n",
              "299995  26624             5           1.0  ...           NaN      9.759995     0.254\n",
              "299996  26624            10           1.0  ...           NaN     -2.110001     0.254\n",
              "299997  26624            14           1.0  ...           NaN     -3.169998     0.254\n",
              "299998  26624            19           1.0  ...           NaN           NaN     0.254\n",
              "299999  26624            23           1.0  ...           NaN           NaN     0.254\n",
              "\n",
              "[300000 rows x 24 columns]"
            ]
          },
          "metadata": {
            "tags": []
          },
          "execution_count": 5
        }
      ]
    },
    {
      "cell_type": "code",
      "metadata": {
        "id": "U_kDYC1Btmz0",
        "colab_type": "code",
        "colab": {
          "base_uri": "https://localhost:8080/",
          "height": 437
        },
        "outputId": "3b344a67-4a39-4432-e962-907bd4f96049"
      },
      "source": [
        "# take a look at a single series\n",
        "pd.set_option('display.max_columns', 24)\n",
        "data[raw_ids[44]==data[\"Id\"]]"
      ],
      "execution_count": 6,
      "outputs": [
        {
          "output_type": "execute_result",
          "data": {
            "text/html": [
              "<div>\n",
              "<style scoped>\n",
              "    .dataframe tbody tr th:only-of-type {\n",
              "        vertical-align: middle;\n",
              "    }\n",
              "\n",
              "    .dataframe tbody tr th {\n",
              "        vertical-align: top;\n",
              "    }\n",
              "\n",
              "    .dataframe thead th {\n",
              "        text-align: right;\n",
              "    }\n",
              "</style>\n",
              "<table border=\"1\" class=\"dataframe\">\n",
              "  <thead>\n",
              "    <tr style=\"text-align: right;\">\n",
              "      <th></th>\n",
              "      <th>Id</th>\n",
              "      <th>minutes_past</th>\n",
              "      <th>radardist_km</th>\n",
              "      <th>Ref</th>\n",
              "      <th>Ref_5x5_10th</th>\n",
              "      <th>Ref_5x5_50th</th>\n",
              "      <th>Ref_5x5_90th</th>\n",
              "      <th>RefComposite</th>\n",
              "      <th>RefComposite_5x5_10th</th>\n",
              "      <th>RefComposite_5x5_50th</th>\n",
              "      <th>RefComposite_5x5_90th</th>\n",
              "      <th>RhoHV</th>\n",
              "      <th>RhoHV_5x5_10th</th>\n",
              "      <th>RhoHV_5x5_50th</th>\n",
              "      <th>RhoHV_5x5_90th</th>\n",
              "      <th>Zdr</th>\n",
              "      <th>Zdr_5x5_10th</th>\n",
              "      <th>Zdr_5x5_50th</th>\n",
              "      <th>Zdr_5x5_90th</th>\n",
              "      <th>Kdp</th>\n",
              "      <th>Kdp_5x5_10th</th>\n",
              "      <th>Kdp_5x5_50th</th>\n",
              "      <th>Kdp_5x5_90th</th>\n",
              "      <th>Expected</th>\n",
              "    </tr>\n",
              "  </thead>\n",
              "  <tbody>\n",
              "    <tr>\n",
              "      <th>469</th>\n",
              "      <td>45</td>\n",
              "      <td>1</td>\n",
              "      <td>12.0</td>\n",
              "      <td>18.5</td>\n",
              "      <td>15.0</td>\n",
              "      <td>18.5</td>\n",
              "      <td>24.5</td>\n",
              "      <td>18.5</td>\n",
              "      <td>16.0</td>\n",
              "      <td>21.0</td>\n",
              "      <td>24.5</td>\n",
              "      <td>NaN</td>\n",
              "      <td>NaN</td>\n",
              "      <td>NaN</td>\n",
              "      <td>NaN</td>\n",
              "      <td>NaN</td>\n",
              "      <td>NaN</td>\n",
              "      <td>NaN</td>\n",
              "      <td>NaN</td>\n",
              "      <td>NaN</td>\n",
              "      <td>NaN</td>\n",
              "      <td>NaN</td>\n",
              "      <td>NaN</td>\n",
              "      <td>0.762</td>\n",
              "    </tr>\n",
              "    <tr>\n",
              "      <th>470</th>\n",
              "      <td>45</td>\n",
              "      <td>6</td>\n",
              "      <td>12.0</td>\n",
              "      <td>17.0</td>\n",
              "      <td>13.5</td>\n",
              "      <td>17.0</td>\n",
              "      <td>25.0</td>\n",
              "      <td>17.0</td>\n",
              "      <td>17.0</td>\n",
              "      <td>20.5</td>\n",
              "      <td>26.0</td>\n",
              "      <td>NaN</td>\n",
              "      <td>NaN</td>\n",
              "      <td>NaN</td>\n",
              "      <td>NaN</td>\n",
              "      <td>NaN</td>\n",
              "      <td>NaN</td>\n",
              "      <td>NaN</td>\n",
              "      <td>NaN</td>\n",
              "      <td>NaN</td>\n",
              "      <td>NaN</td>\n",
              "      <td>NaN</td>\n",
              "      <td>NaN</td>\n",
              "      <td>0.762</td>\n",
              "    </tr>\n",
              "    <tr>\n",
              "      <th>471</th>\n",
              "      <td>45</td>\n",
              "      <td>11</td>\n",
              "      <td>12.0</td>\n",
              "      <td>15.5</td>\n",
              "      <td>12.5</td>\n",
              "      <td>18.5</td>\n",
              "      <td>25.0</td>\n",
              "      <td>22.5</td>\n",
              "      <td>18.5</td>\n",
              "      <td>23.0</td>\n",
              "      <td>29.0</td>\n",
              "      <td>NaN</td>\n",
              "      <td>NaN</td>\n",
              "      <td>NaN</td>\n",
              "      <td>NaN</td>\n",
              "      <td>NaN</td>\n",
              "      <td>NaN</td>\n",
              "      <td>NaN</td>\n",
              "      <td>NaN</td>\n",
              "      <td>NaN</td>\n",
              "      <td>NaN</td>\n",
              "      <td>NaN</td>\n",
              "      <td>NaN</td>\n",
              "      <td>0.762</td>\n",
              "    </tr>\n",
              "    <tr>\n",
              "      <th>472</th>\n",
              "      <td>45</td>\n",
              "      <td>16</td>\n",
              "      <td>12.0</td>\n",
              "      <td>22.0</td>\n",
              "      <td>19.0</td>\n",
              "      <td>23.5</td>\n",
              "      <td>29.0</td>\n",
              "      <td>23.5</td>\n",
              "      <td>21.0</td>\n",
              "      <td>26.5</td>\n",
              "      <td>30.0</td>\n",
              "      <td>NaN</td>\n",
              "      <td>NaN</td>\n",
              "      <td>NaN</td>\n",
              "      <td>NaN</td>\n",
              "      <td>NaN</td>\n",
              "      <td>NaN</td>\n",
              "      <td>NaN</td>\n",
              "      <td>NaN</td>\n",
              "      <td>NaN</td>\n",
              "      <td>NaN</td>\n",
              "      <td>NaN</td>\n",
              "      <td>NaN</td>\n",
              "      <td>0.762</td>\n",
              "    </tr>\n",
              "    <tr>\n",
              "      <th>473</th>\n",
              "      <td>45</td>\n",
              "      <td>21</td>\n",
              "      <td>12.0</td>\n",
              "      <td>22.5</td>\n",
              "      <td>17.5</td>\n",
              "      <td>23.0</td>\n",
              "      <td>29.5</td>\n",
              "      <td>31.0</td>\n",
              "      <td>19.0</td>\n",
              "      <td>26.0</td>\n",
              "      <td>31.0</td>\n",
              "      <td>NaN</td>\n",
              "      <td>NaN</td>\n",
              "      <td>NaN</td>\n",
              "      <td>NaN</td>\n",
              "      <td>NaN</td>\n",
              "      <td>NaN</td>\n",
              "      <td>NaN</td>\n",
              "      <td>NaN</td>\n",
              "      <td>NaN</td>\n",
              "      <td>NaN</td>\n",
              "      <td>NaN</td>\n",
              "      <td>NaN</td>\n",
              "      <td>0.762</td>\n",
              "    </tr>\n",
              "    <tr>\n",
              "      <th>474</th>\n",
              "      <td>45</td>\n",
              "      <td>26</td>\n",
              "      <td>12.0</td>\n",
              "      <td>25.5</td>\n",
              "      <td>20.0</td>\n",
              "      <td>24.0</td>\n",
              "      <td>27.5</td>\n",
              "      <td>25.5</td>\n",
              "      <td>22.5</td>\n",
              "      <td>25.0</td>\n",
              "      <td>27.5</td>\n",
              "      <td>NaN</td>\n",
              "      <td>NaN</td>\n",
              "      <td>NaN</td>\n",
              "      <td>NaN</td>\n",
              "      <td>NaN</td>\n",
              "      <td>NaN</td>\n",
              "      <td>NaN</td>\n",
              "      <td>NaN</td>\n",
              "      <td>NaN</td>\n",
              "      <td>NaN</td>\n",
              "      <td>NaN</td>\n",
              "      <td>NaN</td>\n",
              "      <td>0.762</td>\n",
              "    </tr>\n",
              "    <tr>\n",
              "      <th>475</th>\n",
              "      <td>45</td>\n",
              "      <td>31</td>\n",
              "      <td>12.0</td>\n",
              "      <td>26.0</td>\n",
              "      <td>20.5</td>\n",
              "      <td>26.0</td>\n",
              "      <td>30.0</td>\n",
              "      <td>30.0</td>\n",
              "      <td>23.5</td>\n",
              "      <td>27.5</td>\n",
              "      <td>33.5</td>\n",
              "      <td>NaN</td>\n",
              "      <td>NaN</td>\n",
              "      <td>NaN</td>\n",
              "      <td>NaN</td>\n",
              "      <td>NaN</td>\n",
              "      <td>NaN</td>\n",
              "      <td>NaN</td>\n",
              "      <td>NaN</td>\n",
              "      <td>NaN</td>\n",
              "      <td>NaN</td>\n",
              "      <td>NaN</td>\n",
              "      <td>NaN</td>\n",
              "      <td>0.762</td>\n",
              "    </tr>\n",
              "    <tr>\n",
              "      <th>476</th>\n",
              "      <td>45</td>\n",
              "      <td>37</td>\n",
              "      <td>12.0</td>\n",
              "      <td>20.5</td>\n",
              "      <td>23.0</td>\n",
              "      <td>26.5</td>\n",
              "      <td>32.0</td>\n",
              "      <td>25.5</td>\n",
              "      <td>26.5</td>\n",
              "      <td>29.5</td>\n",
              "      <td>34.0</td>\n",
              "      <td>NaN</td>\n",
              "      <td>NaN</td>\n",
              "      <td>NaN</td>\n",
              "      <td>NaN</td>\n",
              "      <td>NaN</td>\n",
              "      <td>NaN</td>\n",
              "      <td>NaN</td>\n",
              "      <td>NaN</td>\n",
              "      <td>NaN</td>\n",
              "      <td>NaN</td>\n",
              "      <td>NaN</td>\n",
              "      <td>NaN</td>\n",
              "      <td>0.762</td>\n",
              "    </tr>\n",
              "    <tr>\n",
              "      <th>477</th>\n",
              "      <td>45</td>\n",
              "      <td>42</td>\n",
              "      <td>12.0</td>\n",
              "      <td>30.5</td>\n",
              "      <td>24.5</td>\n",
              "      <td>28.0</td>\n",
              "      <td>32.0</td>\n",
              "      <td>30.5</td>\n",
              "      <td>27.5</td>\n",
              "      <td>30.0</td>\n",
              "      <td>33.0</td>\n",
              "      <td>NaN</td>\n",
              "      <td>NaN</td>\n",
              "      <td>NaN</td>\n",
              "      <td>NaN</td>\n",
              "      <td>NaN</td>\n",
              "      <td>NaN</td>\n",
              "      <td>NaN</td>\n",
              "      <td>NaN</td>\n",
              "      <td>NaN</td>\n",
              "      <td>NaN</td>\n",
              "      <td>NaN</td>\n",
              "      <td>NaN</td>\n",
              "      <td>0.762</td>\n",
              "    </tr>\n",
              "    <tr>\n",
              "      <th>478</th>\n",
              "      <td>45</td>\n",
              "      <td>47</td>\n",
              "      <td>12.0</td>\n",
              "      <td>22.5</td>\n",
              "      <td>20.0</td>\n",
              "      <td>24.0</td>\n",
              "      <td>30.0</td>\n",
              "      <td>24.0</td>\n",
              "      <td>21.5</td>\n",
              "      <td>24.0</td>\n",
              "      <td>31.5</td>\n",
              "      <td>NaN</td>\n",
              "      <td>NaN</td>\n",
              "      <td>NaN</td>\n",
              "      <td>NaN</td>\n",
              "      <td>NaN</td>\n",
              "      <td>NaN</td>\n",
              "      <td>NaN</td>\n",
              "      <td>NaN</td>\n",
              "      <td>NaN</td>\n",
              "      <td>NaN</td>\n",
              "      <td>NaN</td>\n",
              "      <td>NaN</td>\n",
              "      <td>0.762</td>\n",
              "    </tr>\n",
              "    <tr>\n",
              "      <th>479</th>\n",
              "      <td>45</td>\n",
              "      <td>53</td>\n",
              "      <td>12.0</td>\n",
              "      <td>15.5</td>\n",
              "      <td>15.5</td>\n",
              "      <td>21.0</td>\n",
              "      <td>25.5</td>\n",
              "      <td>23.5</td>\n",
              "      <td>16.5</td>\n",
              "      <td>23.0</td>\n",
              "      <td>25.5</td>\n",
              "      <td>NaN</td>\n",
              "      <td>NaN</td>\n",
              "      <td>NaN</td>\n",
              "      <td>NaN</td>\n",
              "      <td>NaN</td>\n",
              "      <td>NaN</td>\n",
              "      <td>NaN</td>\n",
              "      <td>NaN</td>\n",
              "      <td>NaN</td>\n",
              "      <td>NaN</td>\n",
              "      <td>NaN</td>\n",
              "      <td>NaN</td>\n",
              "      <td>0.762</td>\n",
              "    </tr>\n",
              "    <tr>\n",
              "      <th>480</th>\n",
              "      <td>45</td>\n",
              "      <td>58</td>\n",
              "      <td>12.0</td>\n",
              "      <td>18.5</td>\n",
              "      <td>NaN</td>\n",
              "      <td>15.5</td>\n",
              "      <td>21.0</td>\n",
              "      <td>18.5</td>\n",
              "      <td>NaN</td>\n",
              "      <td>16.0</td>\n",
              "      <td>22.5</td>\n",
              "      <td>NaN</td>\n",
              "      <td>NaN</td>\n",
              "      <td>NaN</td>\n",
              "      <td>NaN</td>\n",
              "      <td>NaN</td>\n",
              "      <td>NaN</td>\n",
              "      <td>NaN</td>\n",
              "      <td>NaN</td>\n",
              "      <td>NaN</td>\n",
              "      <td>NaN</td>\n",
              "      <td>NaN</td>\n",
              "      <td>NaN</td>\n",
              "      <td>0.762</td>\n",
              "    </tr>\n",
              "  </tbody>\n",
              "</table>\n",
              "</div>"
            ],
            "text/plain": [
              "     Id  minutes_past  radardist_km   Ref  Ref_5x5_10th  Ref_5x5_50th  \\\n",
              "469  45             1          12.0  18.5          15.0          18.5   \n",
              "470  45             6          12.0  17.0          13.5          17.0   \n",
              "471  45            11          12.0  15.5          12.5          18.5   \n",
              "472  45            16          12.0  22.0          19.0          23.5   \n",
              "473  45            21          12.0  22.5          17.5          23.0   \n",
              "474  45            26          12.0  25.5          20.0          24.0   \n",
              "475  45            31          12.0  26.0          20.5          26.0   \n",
              "476  45            37          12.0  20.5          23.0          26.5   \n",
              "477  45            42          12.0  30.5          24.5          28.0   \n",
              "478  45            47          12.0  22.5          20.0          24.0   \n",
              "479  45            53          12.0  15.5          15.5          21.0   \n",
              "480  45            58          12.0  18.5           NaN          15.5   \n",
              "\n",
              "     Ref_5x5_90th  RefComposite  RefComposite_5x5_10th  RefComposite_5x5_50th  \\\n",
              "469          24.5          18.5                   16.0                   21.0   \n",
              "470          25.0          17.0                   17.0                   20.5   \n",
              "471          25.0          22.5                   18.5                   23.0   \n",
              "472          29.0          23.5                   21.0                   26.5   \n",
              "473          29.5          31.0                   19.0                   26.0   \n",
              "474          27.5          25.5                   22.5                   25.0   \n",
              "475          30.0          30.0                   23.5                   27.5   \n",
              "476          32.0          25.5                   26.5                   29.5   \n",
              "477          32.0          30.5                   27.5                   30.0   \n",
              "478          30.0          24.0                   21.5                   24.0   \n",
              "479          25.5          23.5                   16.5                   23.0   \n",
              "480          21.0          18.5                    NaN                   16.0   \n",
              "\n",
              "     RefComposite_5x5_90th  RhoHV  RhoHV_5x5_10th  RhoHV_5x5_50th  \\\n",
              "469                   24.5    NaN             NaN             NaN   \n",
              "470                   26.0    NaN             NaN             NaN   \n",
              "471                   29.0    NaN             NaN             NaN   \n",
              "472                   30.0    NaN             NaN             NaN   \n",
              "473                   31.0    NaN             NaN             NaN   \n",
              "474                   27.5    NaN             NaN             NaN   \n",
              "475                   33.5    NaN             NaN             NaN   \n",
              "476                   34.0    NaN             NaN             NaN   \n",
              "477                   33.0    NaN             NaN             NaN   \n",
              "478                   31.5    NaN             NaN             NaN   \n",
              "479                   25.5    NaN             NaN             NaN   \n",
              "480                   22.5    NaN             NaN             NaN   \n",
              "\n",
              "     RhoHV_5x5_90th  Zdr  Zdr_5x5_10th  Zdr_5x5_50th  Zdr_5x5_90th  Kdp  \\\n",
              "469             NaN  NaN           NaN           NaN           NaN  NaN   \n",
              "470             NaN  NaN           NaN           NaN           NaN  NaN   \n",
              "471             NaN  NaN           NaN           NaN           NaN  NaN   \n",
              "472             NaN  NaN           NaN           NaN           NaN  NaN   \n",
              "473             NaN  NaN           NaN           NaN           NaN  NaN   \n",
              "474             NaN  NaN           NaN           NaN           NaN  NaN   \n",
              "475             NaN  NaN           NaN           NaN           NaN  NaN   \n",
              "476             NaN  NaN           NaN           NaN           NaN  NaN   \n",
              "477             NaN  NaN           NaN           NaN           NaN  NaN   \n",
              "478             NaN  NaN           NaN           NaN           NaN  NaN   \n",
              "479             NaN  NaN           NaN           NaN           NaN  NaN   \n",
              "480             NaN  NaN           NaN           NaN           NaN  NaN   \n",
              "\n",
              "     Kdp_5x5_10th  Kdp_5x5_50th  Kdp_5x5_90th  Expected  \n",
              "469           NaN           NaN           NaN     0.762  \n",
              "470           NaN           NaN           NaN     0.762  \n",
              "471           NaN           NaN           NaN     0.762  \n",
              "472           NaN           NaN           NaN     0.762  \n",
              "473           NaN           NaN           NaN     0.762  \n",
              "474           NaN           NaN           NaN     0.762  \n",
              "475           NaN           NaN           NaN     0.762  \n",
              "476           NaN           NaN           NaN     0.762  \n",
              "477           NaN           NaN           NaN     0.762  \n",
              "478           NaN           NaN           NaN     0.762  \n",
              "479           NaN           NaN           NaN     0.762  \n",
              "480           NaN           NaN           NaN     0.762  "
            ]
          },
          "metadata": {
            "tags": []
          },
          "execution_count": 6
        }
      ]
    },
    {
      "cell_type": "code",
      "metadata": {
        "scrolled": true,
        "id": "z38CuHmctmz7",
        "colab_type": "code",
        "colab": {
          "base_uri": "https://localhost:8080/",
          "height": 285
        },
        "outputId": "fd539007-86e5-46d6-ec9a-f75ea4251128"
      },
      "source": [
        "data[raw_ids[44]==data[\"Id\"]][\"RefComposite_5x5_10th\"].plot()"
      ],
      "execution_count": 7,
      "outputs": [
        {
          "output_type": "execute_result",
          "data": {
            "text/plain": [
              "<matplotlib.axes._subplots.AxesSubplot at 0x7f712ea4dc50>"
            ]
          },
          "metadata": {
            "tags": []
          },
          "execution_count": 7
        },
        {
          "output_type": "display_data",
          "data": {
            "image/png": "[encoded data removed]",
            "text/plain": [
              "<Figure size 432x288 with 1 Axes>"
            ]
          },
          "metadata": {
            "tags": [],
            "needs_background": "light"
          }
        }
      ]
    },
    {
      "cell_type": "markdown",
      "metadata": {
        "id": "_LDbmIChtm0C",
        "colab_type": "text"
      },
      "source": [
        "**POLL HERE** "
      ]
    },
    {
      "cell_type": "code",
      "metadata": {
        "id": "OIAmoKYotm0D",
        "colab_type": "code",
        "colab": {
          "base_uri": "https://localhost:8080/",
          "height": 35
        },
        "outputId": "9c54721a-4f81-4de5-931b-202d993b1657"
      },
      "source": [
        "data.shape"
      ],
      "execution_count": 8,
      "outputs": [
        {
          "output_type": "execute_result",
          "data": {
            "text/plain": [
              "(300000, 24)"
            ]
          },
          "metadata": {
            "tags": []
          },
          "execution_count": 8
        }
      ]
    },
    {
      "cell_type": "code",
      "metadata": {
        "id": "62V-OLb2tm0L",
        "colab_type": "code",
        "colab": {
          "base_uri": "https://localhost:8080/",
          "height": 451
        },
        "outputId": "402f78eb-bf7d-4307-dbc4-254e0cf51f13"
      },
      "source": [
        "data.dtypes"
      ],
      "execution_count": 9,
      "outputs": [
        {
          "output_type": "execute_result",
          "data": {
            "text/plain": [
              "Id                         int64\n",
              "minutes_past               int64\n",
              "radardist_km             float64\n",
              "Ref                      float64\n",
              "Ref_5x5_10th             float64\n",
              "Ref_5x5_50th             float64\n",
              "Ref_5x5_90th             float64\n",
              "RefComposite             float64\n",
              "RefComposite_5x5_10th    float64\n",
              "RefComposite_5x5_50th    float64\n",
              "RefComposite_5x5_90th    float64\n",
              "RhoHV                    float64\n",
              "RhoHV_5x5_10th           float64\n",
              "RhoHV_5x5_50th           float64\n",
              "RhoHV_5x5_90th           float64\n",
              "Zdr                      float64\n",
              "Zdr_5x5_10th             float64\n",
              "Zdr_5x5_50th             float64\n",
              "Zdr_5x5_90th             float64\n",
              "Kdp                      float64\n",
              "Kdp_5x5_10th             float64\n",
              "Kdp_5x5_50th             float64\n",
              "Kdp_5x5_90th             float64\n",
              "Expected                 float64\n",
              "dtype: object"
            ]
          },
          "metadata": {
            "tags": []
          },
          "execution_count": 9
        }
      ]
    },
    {
      "cell_type": "code",
      "metadata": {
        "_uuid": "3a6ee2a6894998270ae4adde48db91ee2ae21576",
        "id": "ih8WBv8Ztm0S",
        "colab_type": "code",
        "colab": {}
      },
      "source": [
        "# convert to float32 since tf usually expects these\n",
        "for column in data.columns:\n",
        "    data[column] = data[column].astype(np.float32)\n",
        "data['Id'] = data['Id'].astype(np.int32)"
      ],
      "execution_count": 0,
      "outputs": []
    },
    {
      "cell_type": "markdown",
      "metadata": {
        "id": "ugreJAA-tm0Z",
        "colab_type": "text"
      },
      "source": [
        "## 2. Missing Data"
      ]
    },
    {
      "cell_type": "code",
      "metadata": {
        "_uuid": "6cd6daa13c211e737682e6fc7c42d29ec3271b6c",
        "id": "10b1GXsptm0b",
        "colab_type": "code",
        "colab": {}
      },
      "source": [
        "# Remove ids with only NaNs in relevant columns (not the ones in nan_except) over all time steps\n",
        "nan_except = [\"Id\", \"minutes_past\", \"radardist_km\", \"Expected\"]\n",
        "# indicator where at least on entry per row is not  NaN\n",
        "at_least_one = ~np.isnan(data.drop(nan_except, axis=1)).all(1)\n",
        "no_nan_data = data[at_least_one]\n",
        "# get all unique Ids that have at least one time step with valid observations\n",
        "raw_ids_tmp = no_nan_data[\"Id\"].unique()\n",
        "# check each Id in original data if it is one of the valid Ids and select it\n",
        "cleaned_data = data[np.isin(raw_ids_all, raw_ids_tmp)]"
      ],
      "execution_count": 0,
      "outputs": []
    },
    {
      "cell_type": "code",
      "metadata": {
        "_uuid": "bf47edf8ac794188ba7dbeb596dd272c176f5ab9",
        "id": "uuHtuV6ztm0h",
        "colab_type": "code",
        "colab": {}
      },
      "source": [
        "# fill missing values with 0 (might not be the best idea)\n",
        "cleaned_data = cleaned_data.fillna(0.0)"
      ],
      "execution_count": 0,
      "outputs": []
    },
    {
      "cell_type": "code",
      "metadata": {
        "id": "ybMbr1witm0q",
        "colab_type": "code",
        "colab": {
          "base_uri": "https://localhost:8080/",
          "height": 0
        },
        "outputId": "bd708218-2e84-4a64-f7ec-3a2661ae60d2"
      },
      "source": [
        "cleaned_data"
      ],
      "execution_count": 13,
      "outputs": [
        {
          "output_type": "execute_result",
          "data": {
            "text/html": [
              "<div>\n",
              "<style scoped>\n",
              "    .dataframe tbody tr th:only-of-type {\n",
              "        vertical-align: middle;\n",
              "    }\n",
              "\n",
              "    .dataframe tbody tr th {\n",
              "        vertical-align: top;\n",
              "    }\n",
              "\n",
              "    .dataframe thead th {\n",
              "        text-align: right;\n",
              "    }\n",
              "</style>\n",
              "<table border=\"1\" class=\"dataframe\">\n",
              "  <thead>\n",
              "    <tr style=\"text-align: right;\">\n",
              "      <th></th>\n",
              "      <th>Id</th>\n",
              "      <th>minutes_past</th>\n",
              "      <th>radardist_km</th>\n",
              "      <th>Ref</th>\n",
              "      <th>Ref_5x5_10th</th>\n",
              "      <th>Ref_5x5_50th</th>\n",
              "      <th>Ref_5x5_90th</th>\n",
              "      <th>RefComposite</th>\n",
              "      <th>RefComposite_5x5_10th</th>\n",
              "      <th>RefComposite_5x5_50th</th>\n",
              "      <th>RefComposite_5x5_90th</th>\n",
              "      <th>RhoHV</th>\n",
              "      <th>RhoHV_5x5_10th</th>\n",
              "      <th>RhoHV_5x5_50th</th>\n",
              "      <th>RhoHV_5x5_90th</th>\n",
              "      <th>Zdr</th>\n",
              "      <th>Zdr_5x5_10th</th>\n",
              "      <th>Zdr_5x5_50th</th>\n",
              "      <th>Zdr_5x5_90th</th>\n",
              "      <th>Kdp</th>\n",
              "      <th>Kdp_5x5_10th</th>\n",
              "      <th>Kdp_5x5_50th</th>\n",
              "      <th>Kdp_5x5_90th</th>\n",
              "      <th>Expected</th>\n",
              "    </tr>\n",
              "  </thead>\n",
              "  <tbody>\n",
              "    <tr>\n",
              "      <th>6</th>\n",
              "      <td>2</td>\n",
              "      <td>1.0</td>\n",
              "      <td>2.0</td>\n",
              "      <td>9.0</td>\n",
              "      <td>5.0</td>\n",
              "      <td>7.5</td>\n",
              "      <td>10.5</td>\n",
              "      <td>15.0</td>\n",
              "      <td>10.5</td>\n",
              "      <td>16.5</td>\n",
              "      <td>23.5</td>\n",
              "      <td>0.998333</td>\n",
              "      <td>0.998333</td>\n",
              "      <td>0.998333</td>\n",
              "      <td>0.998333</td>\n",
              "      <td>0.3750</td>\n",
              "      <td>-0.1250</td>\n",
              "      <td>0.3125</td>\n",
              "      <td>0.8750</td>\n",
              "      <td>1.059998</td>\n",
              "      <td>-1.410004</td>\n",
              "      <td>-0.350006</td>\n",
              "      <td>1.059998</td>\n",
              "      <td>1.016001</td>\n",
              "    </tr>\n",
              "    <tr>\n",
              "      <th>7</th>\n",
              "      <td>2</td>\n",
              "      <td>6.0</td>\n",
              "      <td>2.0</td>\n",
              "      <td>26.5</td>\n",
              "      <td>22.5</td>\n",
              "      <td>25.5</td>\n",
              "      <td>31.5</td>\n",
              "      <td>26.5</td>\n",
              "      <td>26.5</td>\n",
              "      <td>28.5</td>\n",
              "      <td>32.0</td>\n",
              "      <td>1.001667</td>\n",
              "      <td>0.981667</td>\n",
              "      <td>0.998333</td>\n",
              "      <td>1.005000</td>\n",
              "      <td>0.0625</td>\n",
              "      <td>-0.1875</td>\n",
              "      <td>0.2500</td>\n",
              "      <td>0.6875</td>\n",
              "      <td>0.000000</td>\n",
              "      <td>0.000000</td>\n",
              "      <td>0.000000</td>\n",
              "      <td>1.409988</td>\n",
              "      <td>1.016001</td>\n",
              "    </tr>\n",
              "    <tr>\n",
              "      <th>8</th>\n",
              "      <td>2</td>\n",
              "      <td>11.0</td>\n",
              "      <td>2.0</td>\n",
              "      <td>21.5</td>\n",
              "      <td>15.5</td>\n",
              "      <td>20.5</td>\n",
              "      <td>25.0</td>\n",
              "      <td>26.5</td>\n",
              "      <td>23.5</td>\n",
              "      <td>25.0</td>\n",
              "      <td>27.0</td>\n",
              "      <td>1.001667</td>\n",
              "      <td>0.995000</td>\n",
              "      <td>0.998333</td>\n",
              "      <td>1.001667</td>\n",
              "      <td>0.3125</td>\n",
              "      <td>-0.0625</td>\n",
              "      <td>0.3125</td>\n",
              "      <td>0.6250</td>\n",
              "      <td>0.349991</td>\n",
              "      <td>0.000000</td>\n",
              "      <td>-0.350006</td>\n",
              "      <td>1.759995</td>\n",
              "      <td>1.016001</td>\n",
              "    </tr>\n",
              "    <tr>\n",
              "      <th>9</th>\n",
              "      <td>2</td>\n",
              "      <td>16.0</td>\n",
              "      <td>2.0</td>\n",
              "      <td>18.0</td>\n",
              "      <td>14.0</td>\n",
              "      <td>17.5</td>\n",
              "      <td>21.0</td>\n",
              "      <td>20.5</td>\n",
              "      <td>18.0</td>\n",
              "      <td>20.5</td>\n",
              "      <td>23.0</td>\n",
              "      <td>0.995000</td>\n",
              "      <td>0.995000</td>\n",
              "      <td>0.998333</td>\n",
              "      <td>1.001667</td>\n",
              "      <td>0.2500</td>\n",
              "      <td>0.1250</td>\n",
              "      <td>0.3750</td>\n",
              "      <td>0.6875</td>\n",
              "      <td>0.349991</td>\n",
              "      <td>-1.059998</td>\n",
              "      <td>0.000000</td>\n",
              "      <td>1.059998</td>\n",
              "      <td>1.016001</td>\n",
              "    </tr>\n",
              "    <tr>\n",
              "      <th>10</th>\n",
              "      <td>2</td>\n",
              "      <td>21.0</td>\n",
              "      <td>2.0</td>\n",
              "      <td>24.5</td>\n",
              "      <td>16.5</td>\n",
              "      <td>21.0</td>\n",
              "      <td>24.5</td>\n",
              "      <td>24.5</td>\n",
              "      <td>21.0</td>\n",
              "      <td>24.0</td>\n",
              "      <td>28.0</td>\n",
              "      <td>0.998333</td>\n",
              "      <td>0.995000</td>\n",
              "      <td>0.998333</td>\n",
              "      <td>0.998333</td>\n",
              "      <td>0.2500</td>\n",
              "      <td>0.0625</td>\n",
              "      <td>0.1875</td>\n",
              "      <td>0.5625</td>\n",
              "      <td>-0.350006</td>\n",
              "      <td>-1.059998</td>\n",
              "      <td>-0.350006</td>\n",
              "      <td>1.759995</td>\n",
              "      <td>1.016001</td>\n",
              "    </tr>\n",
              "    <tr>\n",
              "      <th>...</th>\n",
              "      <td>...</td>\n",
              "      <td>...</td>\n",
              "      <td>...</td>\n",
              "      <td>...</td>\n",
              "      <td>...</td>\n",
              "      <td>...</td>\n",
              "      <td>...</td>\n",
              "      <td>...</td>\n",
              "      <td>...</td>\n",
              "      <td>...</td>\n",
              "      <td>...</td>\n",
              "      <td>...</td>\n",
              "      <td>...</td>\n",
              "      <td>...</td>\n",
              "      <td>...</td>\n",
              "      <td>...</td>\n",
              "      <td>...</td>\n",
              "      <td>...</td>\n",
              "      <td>...</td>\n",
              "      <td>...</td>\n",
              "      <td>...</td>\n",
              "      <td>...</td>\n",
              "      <td>...</td>\n",
              "      <td>...</td>\n",
              "    </tr>\n",
              "    <tr>\n",
              "      <th>299995</th>\n",
              "      <td>26624</td>\n",
              "      <td>5.0</td>\n",
              "      <td>1.0</td>\n",
              "      <td>12.5</td>\n",
              "      <td>6.5</td>\n",
              "      <td>8.5</td>\n",
              "      <td>14.5</td>\n",
              "      <td>12.5</td>\n",
              "      <td>8.5</td>\n",
              "      <td>10.5</td>\n",
              "      <td>18.0</td>\n",
              "      <td>0.555000</td>\n",
              "      <td>0.548333</td>\n",
              "      <td>0.885000</td>\n",
              "      <td>0.998333</td>\n",
              "      <td>-1.1250</td>\n",
              "      <td>-3.5625</td>\n",
              "      <td>-0.9375</td>\n",
              "      <td>0.2500</td>\n",
              "      <td>9.399994</td>\n",
              "      <td>0.000000</td>\n",
              "      <td>0.000000</td>\n",
              "      <td>9.759995</td>\n",
              "      <td>0.254000</td>\n",
              "    </tr>\n",
              "    <tr>\n",
              "      <th>299996</th>\n",
              "      <td>26624</td>\n",
              "      <td>10.0</td>\n",
              "      <td>1.0</td>\n",
              "      <td>1.5</td>\n",
              "      <td>1.5</td>\n",
              "      <td>7.0</td>\n",
              "      <td>13.5</td>\n",
              "      <td>6.5</td>\n",
              "      <td>6.5</td>\n",
              "      <td>9.0</td>\n",
              "      <td>13.5</td>\n",
              "      <td>0.875000</td>\n",
              "      <td>0.535000</td>\n",
              "      <td>0.875000</td>\n",
              "      <td>0.998333</td>\n",
              "      <td>-1.1875</td>\n",
              "      <td>-2.8125</td>\n",
              "      <td>-0.7500</td>\n",
              "      <td>0.6250</td>\n",
              "      <td>0.000000</td>\n",
              "      <td>0.000000</td>\n",
              "      <td>0.000000</td>\n",
              "      <td>-2.110001</td>\n",
              "      <td>0.254000</td>\n",
              "    </tr>\n",
              "    <tr>\n",
              "      <th>299997</th>\n",
              "      <td>26624</td>\n",
              "      <td>14.0</td>\n",
              "      <td>1.0</td>\n",
              "      <td>8.5</td>\n",
              "      <td>2.5</td>\n",
              "      <td>6.5</td>\n",
              "      <td>24.5</td>\n",
              "      <td>9.5</td>\n",
              "      <td>6.0</td>\n",
              "      <td>9.5</td>\n",
              "      <td>24.5</td>\n",
              "      <td>0.991667</td>\n",
              "      <td>0.655000</td>\n",
              "      <td>0.958333</td>\n",
              "      <td>1.001667</td>\n",
              "      <td>-0.3125</td>\n",
              "      <td>-3.1250</td>\n",
              "      <td>-0.3125</td>\n",
              "      <td>6.8750</td>\n",
              "      <td>0.000000</td>\n",
              "      <td>0.000000</td>\n",
              "      <td>0.000000</td>\n",
              "      <td>-3.169998</td>\n",
              "      <td>0.254000</td>\n",
              "    </tr>\n",
              "    <tr>\n",
              "      <th>299998</th>\n",
              "      <td>26624</td>\n",
              "      <td>19.0</td>\n",
              "      <td>1.0</td>\n",
              "      <td>7.0</td>\n",
              "      <td>-0.5</td>\n",
              "      <td>7.0</td>\n",
              "      <td>12.0</td>\n",
              "      <td>7.0</td>\n",
              "      <td>6.5</td>\n",
              "      <td>9.0</td>\n",
              "      <td>14.0</td>\n",
              "      <td>1.001667</td>\n",
              "      <td>0.935000</td>\n",
              "      <td>0.998333</td>\n",
              "      <td>1.005000</td>\n",
              "      <td>0.0000</td>\n",
              "      <td>-0.8125</td>\n",
              "      <td>0.1250</td>\n",
              "      <td>0.6875</td>\n",
              "      <td>0.000000</td>\n",
              "      <td>0.000000</td>\n",
              "      <td>0.000000</td>\n",
              "      <td>0.000000</td>\n",
              "      <td>0.254000</td>\n",
              "    </tr>\n",
              "    <tr>\n",
              "      <th>299999</th>\n",
              "      <td>26624</td>\n",
              "      <td>23.0</td>\n",
              "      <td>1.0</td>\n",
              "      <td>6.5</td>\n",
              "      <td>3.0</td>\n",
              "      <td>6.5</td>\n",
              "      <td>10.0</td>\n",
              "      <td>6.5</td>\n",
              "      <td>6.5</td>\n",
              "      <td>8.0</td>\n",
              "      <td>13.5</td>\n",
              "      <td>1.001667</td>\n",
              "      <td>0.968333</td>\n",
              "      <td>1.001667</td>\n",
              "      <td>1.008333</td>\n",
              "      <td>0.0000</td>\n",
              "      <td>-0.1875</td>\n",
              "      <td>0.0625</td>\n",
              "      <td>1.2500</td>\n",
              "      <td>0.000000</td>\n",
              "      <td>0.000000</td>\n",
              "      <td>0.000000</td>\n",
              "      <td>0.000000</td>\n",
              "      <td>0.254000</td>\n",
              "    </tr>\n",
              "  </tbody>\n",
              "</table>\n",
              "<p>221264 rows × 24 columns</p>\n",
              "</div>"
            ],
            "text/plain": [
              "           Id  minutes_past  radardist_km   Ref  Ref_5x5_10th  Ref_5x5_50th  \\\n",
              "6           2           1.0           2.0   9.0           5.0           7.5   \n",
              "7           2           6.0           2.0  26.5          22.5          25.5   \n",
              "8           2          11.0           2.0  21.5          15.5          20.5   \n",
              "9           2          16.0           2.0  18.0          14.0          17.5   \n",
              "10          2          21.0           2.0  24.5          16.5          21.0   \n",
              "...       ...           ...           ...   ...           ...           ...   \n",
              "299995  26624           5.0           1.0  12.5           6.5           8.5   \n",
              "299996  26624          10.0           1.0   1.5           1.5           7.0   \n",
              "299997  26624          14.0           1.0   8.5           2.5           6.5   \n",
              "299998  26624          19.0           1.0   7.0          -0.5           7.0   \n",
              "299999  26624          23.0           1.0   6.5           3.0           6.5   \n",
              "\n",
              "        Ref_5x5_90th  RefComposite  RefComposite_5x5_10th  \\\n",
              "6               10.5          15.0                   10.5   \n",
              "7               31.5          26.5                   26.5   \n",
              "8               25.0          26.5                   23.5   \n",
              "9               21.0          20.5                   18.0   \n",
              "10              24.5          24.5                   21.0   \n",
              "...              ...           ...                    ...   \n",
              "299995          14.5          12.5                    8.5   \n",
              "299996          13.5           6.5                    6.5   \n",
              "299997          24.5           9.5                    6.0   \n",
              "299998          12.0           7.0                    6.5   \n",
              "299999          10.0           6.5                    6.5   \n",
              "\n",
              "        RefComposite_5x5_50th  RefComposite_5x5_90th     RhoHV  \\\n",
              "6                        16.5                   23.5  0.998333   \n",
              "7                        28.5                   32.0  1.001667   \n",
              "8                        25.0                   27.0  1.001667   \n",
              "9                        20.5                   23.0  0.995000   \n",
              "10                       24.0                   28.0  0.998333   \n",
              "...                       ...                    ...       ...   \n",
              "299995                   10.5                   18.0  0.555000   \n",
              "299996                    9.0                   13.5  0.875000   \n",
              "299997                    9.5                   24.5  0.991667   \n",
              "299998                    9.0                   14.0  1.001667   \n",
              "299999                    8.0                   13.5  1.001667   \n",
              "\n",
              "        RhoHV_5x5_10th  RhoHV_5x5_50th  RhoHV_5x5_90th     Zdr  Zdr_5x5_10th  \\\n",
              "6             0.998333        0.998333        0.998333  0.3750       -0.1250   \n",
              "7             0.981667        0.998333        1.005000  0.0625       -0.1875   \n",
              "8             0.995000        0.998333        1.001667  0.3125       -0.0625   \n",
              "9             0.995000        0.998333        1.001667  0.2500        0.1250   \n",
              "10            0.995000        0.998333        0.998333  0.2500        0.0625   \n",
              "...                ...             ...             ...     ...           ...   \n",
              "299995        0.548333        0.885000        0.998333 -1.1250       -3.5625   \n",
              "299996        0.535000        0.875000        0.998333 -1.1875       -2.8125   \n",
              "299997        0.655000        0.958333        1.001667 -0.3125       -3.1250   \n",
              "299998        0.935000        0.998333        1.005000  0.0000       -0.8125   \n",
              "299999        0.968333        1.001667        1.008333  0.0000       -0.1875   \n",
              "\n",
              "        Zdr_5x5_50th  Zdr_5x5_90th       Kdp  Kdp_5x5_10th  Kdp_5x5_50th  \\\n",
              "6             0.3125        0.8750  1.059998     -1.410004     -0.350006   \n",
              "7             0.2500        0.6875  0.000000      0.000000      0.000000   \n",
              "8             0.3125        0.6250  0.349991      0.000000     -0.350006   \n",
              "9             0.3750        0.6875  0.349991     -1.059998      0.000000   \n",
              "10            0.1875        0.5625 -0.350006     -1.059998     -0.350006   \n",
              "...              ...           ...       ...           ...           ...   \n",
              "299995       -0.9375        0.2500  9.399994      0.000000      0.000000   \n",
              "299996       -0.7500        0.6250  0.000000      0.000000      0.000000   \n",
              "299997       -0.3125        6.8750  0.000000      0.000000      0.000000   \n",
              "299998        0.1250        0.6875  0.000000      0.000000      0.000000   \n",
              "299999        0.0625        1.2500  0.000000      0.000000      0.000000   \n",
              "\n",
              "        Kdp_5x5_90th  Expected  \n",
              "6           1.059998  1.016001  \n",
              "7           1.409988  1.016001  \n",
              "8           1.759995  1.016001  \n",
              "9           1.059998  1.016001  \n",
              "10          1.759995  1.016001  \n",
              "...              ...       ...  \n",
              "299995      9.759995  0.254000  \n",
              "299996     -2.110001  0.254000  \n",
              "299997     -3.169998  0.254000  \n",
              "299998      0.000000  0.254000  \n",
              "299999      0.000000  0.254000  \n",
              "\n",
              "[221264 rows x 24 columns]"
            ]
          },
          "metadata": {
            "tags": []
          },
          "execution_count": 13
        }
      ]
    },
    {
      "cell_type": "code",
      "metadata": {
        "id": "qlwaCH7ltm04",
        "colab_type": "code",
        "colab": {
          "base_uri": "https://localhost:8080/",
          "height": 0
        },
        "outputId": "85052fcc-0629-4924-e1f6-5fc97b3e822b"
      },
      "source": [
        "print(f\"{len(cleaned_data)/len(data)*100}% time steps remaining\")"
      ],
      "execution_count": 14,
      "outputs": [
        {
          "output_type": "stream",
          "text": [
            "73.75466666666667% time steps remaining\n"
          ],
          "name": "stdout"
        }
      ]
    },
    {
      "cell_type": "markdown",
      "metadata": {
        "id": "oT7CISKatm1A",
        "colab_type": "text"
      },
      "source": [
        "## 3. Define and exclude outliers"
      ]
    },
    {
      "cell_type": "code",
      "metadata": {
        "id": "rB8oGltLtm1C",
        "colab_type": "code",
        "colab": {
          "base_uri": "https://localhost:8080/",
          "height": 0
        },
        "outputId": "06b95ca9-eaf7-4bae-ff1e-4eaa50e84bcb"
      },
      "source": [
        "cleaned_data[\"Expected\"].plot.hist(bins=100)"
      ],
      "execution_count": 15,
      "outputs": [
        {
          "output_type": "execute_result",
          "data": {
            "text/plain": [
              "<matplotlib.axes._subplots.AxesSubplot at 0x7f712e4efe48>"
            ]
          },
          "metadata": {
            "tags": []
          },
          "execution_count": 15
        },
        {
          "output_type": "display_data",
          "data": {
            "image/png": "[encoded data removed]",
            "text/plain": [
              "<Figure size 432x288 with 1 Axes>"
            ]
          },
          "metadata": {
            "tags": [],
            "needs_background": "light"
          }
        }
      ]
    },
    {
      "cell_type": "code",
      "metadata": {
        "id": "WX_kFSQHtm1L",
        "colab_type": "code",
        "colab": {
          "base_uri": "https://localhost:8080/",
          "height": 0
        },
        "outputId": "e82b64bc-3300-484f-e291-dcb76f78a20d"
      },
      "source": [
        "cleaned_data.boxplot(column=\"Expected\")"
      ],
      "execution_count": 16,
      "outputs": [
        {
          "output_type": "execute_result",
          "data": {
            "text/plain": [
              "<matplotlib.axes._subplots.AxesSubplot at 0x7f712e36e748>"
            ]
          },
          "metadata": {
            "tags": []
          },
          "execution_count": 16
        },
        {
          "output_type": "display_data",
          "data": {
            "image/png": "[encoded data removed]",
            "text/plain": [
              "<Figure size 432x288 with 1 Axes>"
            ]
          },
          "metadata": {
            "tags": [],
            "needs_background": "light"
          }
        }
      ]
    },
    {
      "cell_type": "code",
      "metadata": {
        "id": "jqDXkvrMtm1S",
        "colab_type": "code",
        "colab": {
          "base_uri": "https://localhost:8080/",
          "height": 0
        },
        "outputId": "2517f7fb-ba41-41b1-a512-c337a06baf73"
      },
      "source": [
        "# This would be ~33m per square meter in an hour! This is highly suspicious!\n",
        "cleaned_data[\"Expected\"].describe()"
      ],
      "execution_count": 17,
      "outputs": [
        {
          "output_type": "execute_result",
          "data": {
            "text/plain": [
              "count    221264.000000\n",
              "mean         38.525028\n",
              "std         381.507141\n",
              "min           0.010000\n",
              "25%           0.254000\n",
              "50%           1.016001\n",
              "75%           3.556002\n",
              "max       32740.617188\n",
              "Name: Expected, dtype: float64"
            ]
          },
          "metadata": {
            "tags": []
          },
          "execution_count": 17
        }
      ]
    },
    {
      "cell_type": "markdown",
      "metadata": {
        "id": "LUQh7Z9htm1b",
        "colab_type": "text"
      },
      "source": [
        "**Standard deviation method**\n",
        "* good for Gaussian distributed data\n",
        "* considered thresholds ($t$) are:\n",
        "    * ~68% of data is covered by 1 $\\times$ standard deviation\n",
        "    * ~95% of data is covered by 2 $\\times$ standard deviation\n",
        "    * ~99% of data is covered by 3 $\\times$ standard deviation\n",
        "* keep: $ -std(x) * t < x < std(x) * t $\n",
        "\n",
        "**Interquartile range method**\n",
        "* also works for non-Gaussian data\n",
        "* 25% and 75% quantiles define box of boxplot\n",
        "* steps:\n",
        "    1. calculate 25% ($q_{25}$) and 75% ($q_{75}$ quantiles of data (x)\n",
        "    2. interquartile range  is defined as: $iqr = q_{75} - q_{25}$\n",
        "    3. cutoff value: $t * iqr$\n",
        "        * defines the whiskers in a box-plot\n",
        "        * $t$ is usually set to 1.5 and sometimes 3\n",
        "        * why 1.5? it roughly defines between 2 and 3 times standard deviation\n",
        "![image.png](https://upload.wikimedia.org/wikipedia/commons/thumb/1/1a/Boxplot_vs_PDF.svg/640px-Boxplot_vs_PDF.svg.png?1589793853423)\n",
        "\n",
        "**Learned outlier detection**:\n",
        "* outlier problem can be seen as one-class classification\n",
        "* exemplary methods: one-class SVM, Local Outlier Factor, Local Outlier Density Factor, IsolationForest\n",
        "    \n"
      ]
    },
    {
      "cell_type": "code",
      "metadata": {
        "id": "MFnIzMrVtm1c",
        "colab_type": "code",
        "colab": {}
      },
      "source": [
        "# let us remove outliers with the interquartile range method)\n",
        "q25, q75 = np.quantile(cleaned_data, .25), np.quantile(cleaned_data, .75)\n",
        "inter_quantile_range = q75 - q25"
      ],
      "execution_count": 0,
      "outputs": []
    },
    {
      "cell_type": "code",
      "metadata": {
        "id": "BBgYLMAmtm1i",
        "colab_type": "code",
        "colab": {}
      },
      "source": [
        "# calculate the outlier cutoff\n",
        "cut_off = inter_quantile_range * 1.5\n",
        "lower = q25 - cut_off\n",
        "upper = q75 + cut_off"
      ],
      "execution_count": 0,
      "outputs": []
    },
    {
      "cell_type": "code",
      "metadata": {
        "id": "f1It4mR-tm1p",
        "colab_type": "code",
        "colab": {
          "base_uri": "https://localhost:8080/",
          "height": 0
        },
        "outputId": "0a340e41-64e0-4507-dfab-c515d767de62"
      },
      "source": [
        "print(lower, upper)"
      ],
      "execution_count": 20,
      "outputs": [
        {
          "output_type": "stream",
          "text": [
            "-24.0 40.0\n"
          ],
          "name": "stdout"
        }
      ]
    },
    {
      "cell_type": "code",
      "metadata": {
        "_uuid": "02c420a3f907d2162b0b6347305632183fcf9fb5",
        "id": "fr17KMpktm1v",
        "colab_type": "code",
        "colab": {}
      },
      "source": [
        "cleaned_data_gp = cleaned_data.groupby('Id')\n",
        "df = pd.DataFrame(cleaned_data_gp['Expected'].mean()) # mean, or any value\n",
        "meaningful_ids = np.array(df[(df['Expected'] < upper) & (df['Expected'] > lower)].index) # all values above threshold are excluded"
      ],
      "execution_count": 0,
      "outputs": []
    },
    {
      "cell_type": "code",
      "metadata": {
        "_uuid": "e61a7cc313e7eae76c8bd52de8ed185aa3d66709",
        "id": "gAH61k_Ltm11",
        "colab_type": "code",
        "colab": {}
      },
      "source": [
        "final_data = cleaned_data[np.isin(cleaned_data.Id, meaningful_ids)]"
      ],
      "execution_count": 0,
      "outputs": []
    },
    {
      "cell_type": "code",
      "metadata": {
        "id": "gTyG0tnYtm1_",
        "colab_type": "code",
        "colab": {
          "base_uri": "https://localhost:8080/",
          "height": 0
        },
        "outputId": "a97b3960-5003-4914-9d05-68e1d1df5b24"
      },
      "source": [
        "# mean is much closer to the median value\n",
        "final_data[\"Expected\"].describe()"
      ],
      "execution_count": 23,
      "outputs": [
        {
          "output_type": "execute_result",
          "data": {
            "text/plain": [
              "count    213208.000000\n",
              "mean          2.792479\n",
              "std           4.709725\n",
              "min           0.010000\n",
              "25%           0.254000\n",
              "50%           1.016001\n",
              "75%           3.048002\n",
              "max          39.624023\n",
              "Name: Expected, dtype: float64"
            ]
          },
          "metadata": {
            "tags": []
          },
          "execution_count": 23
        }
      ]
    },
    {
      "cell_type": "code",
      "metadata": {
        "id": "O3yZI3lAtm2F",
        "colab_type": "code",
        "colab": {
          "base_uri": "https://localhost:8080/",
          "height": 0
        },
        "outputId": "50feb7be-e15e-4c69-bdc6-82d06752b22b"
      },
      "source": [
        "final_data[\"Expected\"].plot.hist(bins=100)"
      ],
      "execution_count": 24,
      "outputs": [
        {
          "output_type": "execute_result",
          "data": {
            "text/plain": [
              "<matplotlib.axes._subplots.AxesSubplot at 0x7f712e2e0438>"
            ]
          },
          "metadata": {
            "tags": []
          },
          "execution_count": 24
        },
        {
          "output_type": "display_data",
          "data": {
            "image/png": "[encoded data removed]",
            "text/plain": [
              "<Figure size 432x288 with 1 Axes>"
            ]
          },
          "metadata": {
            "tags": [],
            "needs_background": "light"
          }
        }
      ]
    },
    {
      "cell_type": "code",
      "metadata": {
        "id": "GK_mnKrbtm2M",
        "colab_type": "code",
        "colab": {
          "base_uri": "https://localhost:8080/",
          "height": 0
        },
        "outputId": "bae9fd25-8228-46c0-de0d-83d88b6eacbd"
      },
      "source": [
        "final_data.boxplot(column=\"Expected\")"
      ],
      "execution_count": 25,
      "outputs": [
        {
          "output_type": "execute_result",
          "data": {
            "text/plain": [
              "<matplotlib.axes._subplots.AxesSubplot at 0x7f712e16cfd0>"
            ]
          },
          "metadata": {
            "tags": []
          },
          "execution_count": 25
        },
        {
          "output_type": "display_data",
          "data": {
            "image/png": "[encoded data removed]",
            "text/plain": [
              "<Figure size 432x288 with 1 Axes>"
            ]
          },
          "metadata": {
            "tags": [],
            "needs_background": "light"
          }
        }
      ]
    },
    {
      "cell_type": "code",
      "metadata": {
        "id": "TdNTPGWxtm2S",
        "colab_type": "code",
        "colab": {
          "base_uri": "https://localhost:8080/",
          "height": 0
        },
        "outputId": "bf1ce420-2b10-4bf3-e229-0ecd2cd1d305"
      },
      "source": [
        "print(f\"{len(final_data)/len(data)*100}% time steps remaining\")"
      ],
      "execution_count": 26,
      "outputs": [
        {
          "output_type": "stream",
          "text": [
            "71.06933333333333% time steps remaining\n"
          ],
          "name": "stdout"
        }
      ]
    },
    {
      "cell_type": "markdown",
      "metadata": {
        "id": "DDBYvy42tm2Y",
        "colab_type": "text"
      },
      "source": [
        "## 4. Final Dataset"
      ]
    },
    {
      "cell_type": "code",
      "metadata": {
        "_uuid": "707ad3373b946155832e3e19f98f4bf0e56906f9",
        "id": "jRDbLdgAtm2Z",
        "colab_type": "code",
        "colab": {}
      },
      "source": [
        "# group by id to get all time steps for a single id\n",
        "data_pd_gp = final_data.groupby(\"Id\")\n",
        "data_size = len(data_pd_gp)"
      ],
      "execution_count": 0,
      "outputs": []
    },
    {
      "cell_type": "code",
      "metadata": {
        "id": "9D_7Yolztm2i",
        "colab_type": "code",
        "colab": {
          "base_uri": "https://localhost:8080/",
          "height": 0
        },
        "outputId": "e228ee4a-3406-4580-8114-6a0d9cae48aa"
      },
      "source": [
        "# how many time steps at most?\n",
        "data_max_steps = data_pd_gp.count().max(0)\n",
        "data_max_steps"
      ],
      "execution_count": 28,
      "outputs": [
        {
          "output_type": "execute_result",
          "data": {
            "text/plain": [
              "minutes_past             19\n",
              "radardist_km             19\n",
              "Ref                      19\n",
              "Ref_5x5_10th             19\n",
              "Ref_5x5_50th             19\n",
              "Ref_5x5_90th             19\n",
              "RefComposite             19\n",
              "RefComposite_5x5_10th    19\n",
              "RefComposite_5x5_50th    19\n",
              "RefComposite_5x5_90th    19\n",
              "RhoHV                    19\n",
              "RhoHV_5x5_10th           19\n",
              "RhoHV_5x5_50th           19\n",
              "RhoHV_5x5_90th           19\n",
              "Zdr                      19\n",
              "Zdr_5x5_10th             19\n",
              "Zdr_5x5_50th             19\n",
              "Zdr_5x5_90th             19\n",
              "Kdp                      19\n",
              "Kdp_5x5_10th             19\n",
              "Kdp_5x5_50th             19\n",
              "Kdp_5x5_90th             19\n",
              "Expected                 19\n",
              "dtype: int64"
            ]
          },
          "metadata": {
            "tags": []
          },
          "execution_count": 28
        }
      ]
    },
    {
      "cell_type": "code",
      "metadata": {
        "id": "kSXIX7Wetm2o",
        "colab_type": "code",
        "colab": {
          "base_uri": "https://localhost:8080/",
          "height": 0
        },
        "outputId": "e7685a49-f6f2-4ea7-ca10-ee4f1a50d9b1"
      },
      "source": [
        "# how many time steps at least?\n",
        "data_min_steps = data_pd_gp.count().min(0)\n",
        "data_min_steps"
      ],
      "execution_count": 29,
      "outputs": [
        {
          "output_type": "execute_result",
          "data": {
            "text/plain": [
              "minutes_past             5\n",
              "radardist_km             5\n",
              "Ref                      5\n",
              "Ref_5x5_10th             5\n",
              "Ref_5x5_50th             5\n",
              "Ref_5x5_90th             5\n",
              "RefComposite             5\n",
              "RefComposite_5x5_10th    5\n",
              "RefComposite_5x5_50th    5\n",
              "RefComposite_5x5_90th    5\n",
              "RhoHV                    5\n",
              "RhoHV_5x5_10th           5\n",
              "RhoHV_5x5_50th           5\n",
              "RhoHV_5x5_90th           5\n",
              "Zdr                      5\n",
              "Zdr_5x5_10th             5\n",
              "Zdr_5x5_50th             5\n",
              "Zdr_5x5_90th             5\n",
              "Kdp                      5\n",
              "Kdp_5x5_10th             5\n",
              "Kdp_5x5_50th             5\n",
              "Kdp_5x5_90th             5\n",
              "Expected                 5\n",
              "dtype: int64"
            ]
          },
          "metadata": {
            "tags": []
          },
          "execution_count": 29
        }
      ]
    },
    {
      "cell_type": "code",
      "metadata": {
        "_uuid": "655bb9d17f70626ea730192201bd50e3f033702e",
        "id": "9HZv4pbgtm2x",
        "colab_type": "code",
        "colab": {}
      },
      "source": [
        "# create a padding function to have same input length for all time series\n",
        "def pad_series(X, target_len):\n",
        "    seq_len = X.shape[0] # current length\n",
        "    pad_size = target_len - seq_len # how much do we need to pad\n",
        "    if (pad_size > 0):\n",
        "        X = np.pad(X, ((0, pad_size), (0, 0)), 'constant', constant_values=0.)\n",
        "    return X#, seq_len"
      ],
      "execution_count": 0,
      "outputs": []
    },
    {
      "cell_type": "code",
      "metadata": {
        "_uuid": "7ed5d75483321909bff12f364293cd06c8b43f1c",
        "id": "gKsq7_hQtm23",
        "colab_type": "code",
        "colab": {
          "base_uri": "https://localhost:8080/",
          "height": 0
        },
        "outputId": "32982805-51d5-4996-af53-4aefd96ce18f"
      },
      "source": [
        "series_length = np.max(data_max_steps)\n",
        "dims = len(data_max_steps) - 1 # 22, excluded target entry \"Expected\"\n",
        "\n",
        "X = np.empty((data_size, series_length, dims))\n",
        "# seq_lengths = np.zeros(data_size)\n",
        "y = np.zeros(data_size)\n",
        "\n",
        "i = 0\n",
        "for _, group in data_pd_gp:\n",
        "    group_array = np.array(group)\n",
        "    x = pad_series(group_array[:, 1:dims+1], target_len=series_length) # exclude id and \"Expected\"\n",
        "    y_ = group_array[0, dims+1] # expected value [23] at time 0 (could be any time)\n",
        "    X[i, :, :] = x\n",
        "#     seq_lengths[i] = seq_length\n",
        "    y[i]= y_\n",
        "    i += 1\n",
        "\n",
        "X.shape, y.shape\n",
        "\n",
        "# note: alternatively we could also pad every batch individually when it is created"
      ],
      "execution_count": 31,
      "outputs": [
        {
          "output_type": "execute_result",
          "data": {
            "text/plain": [
              "((17467, 19, 22), (17467,))"
            ]
          },
          "metadata": {
            "tags": []
          },
          "execution_count": 31
        }
      ]
    },
    {
      "cell_type": "code",
      "metadata": {
        "id": "NjHmbge8tm29",
        "colab_type": "code",
        "colab": {}
      },
      "source": [
        "# separate into training and validation\n",
        "val_ratio = 0.8\n",
        "split = int(len(X)*val_ratio)\n",
        "\n",
        "# random seed\n",
        "random = np.random.RandomState(42)\n",
        "# create a random shuffle for training/validation\n",
        "\n",
        "idx = np.arange(len(X))\n",
        "random.shuffle(idx)\n",
        "idx_train = idx[:split]\n",
        "idx_test = idx[split:]\n",
        "\n",
        "X_train = X[idx_train]\n",
        "y_train = y[idx_train]\n",
        "\n",
        "X_val = X[idx_test]\n",
        "y_val = y[idx_test]"
      ],
      "execution_count": 0,
      "outputs": []
    },
    {
      "cell_type": "code",
      "metadata": {
        "id": "FY_Kku5Wtm3F",
        "colab_type": "code",
        "colab": {}
      },
      "source": [
        "# apply scaling (careful, we already removed outliers)\n",
        "\n",
        "from sklearn.preprocessing import RobustScaler\n",
        "X_train_shape = X_train.shape\n",
        "X_val_shape = X_val.shape\n",
        "# need to flatten time axis\n",
        "flat_X_train = X_train.reshape(-1, X_train_shape[-1])\n",
        "flat_X_val = X_val.reshape(-1, X_val_shape[-1])\n",
        "scaler = RobustScaler().fit(flat_X_train)\n",
        "# transform and reshape to original shape\n",
        "X_train = scaler.transform(flat_X_train).reshape(X_train_shape)\n",
        "X_val = scaler.transform(flat_X_val).reshape(X_val_shape)"
      ],
      "execution_count": 0,
      "outputs": []
    },
    {
      "cell_type": "markdown",
      "metadata": {
        "id": "GOOKojOltm3N",
        "colab_type": "text"
      },
      "source": [
        "## 5. Create and train a recurrent Model"
      ]
    },
    {
      "cell_type": "markdown",
      "metadata": {
        "id": "QlvKN_b3tm3O",
        "colab_type": "text"
      },
      "source": [
        "#### Define Model"
      ]
    },
    {
      "cell_type": "code",
      "metadata": {
        "_uuid": "b33ee96e478c4412141264ed91615eb069f7008d",
        "id": "Xndqjru5tm3P",
        "colab_type": "code",
        "colab": {}
      },
      "source": [
        "# import some layer\n",
        "from tensorflow.keras.layers import SimpleRNN, Input, Dense, LSTM, GRU, AveragePooling1D, TimeDistributed, Bidirectional, Conv1D, Flatten, Layer\n",
        "from tensorflow.keras.models import Model\n",
        "from tensorflow.keras import activations, initializers"
      ],
      "execution_count": 0,
      "outputs": []
    },
    {
      "cell_type": "code",
      "metadata": {
        "_uuid": "0e3c25a81256fe478ab21a2e767beaa9599b836b",
        "id": "pJlR23qHtm3W",
        "colab_type": "code",
        "colab": {}
      },
      "source": [
        "def get_model_dense(shape):\n",
        "    # problem here: if test set has more time steps, we need to ommit them\n",
        "    inp = Input(shape)\n",
        "    x = Flatten()(inp)\n",
        "    x = Dense(64, \"tanh\")(x) # only able to process fixed amount of time steps\n",
        "    x = Dense(1)(x)\n",
        "\n",
        "    model = Model(inp, x)\n",
        "    return model\n",
        "\n",
        "# LSTM model\n",
        "def get_model_rnn(shape):\n",
        "    inp = Input(shape)\n",
        "    x = LSTM(64, return_sequences=False)(inp)\n",
        "    x = Dense(1)(x)\n",
        "\n",
        "    model = Model(inp, x)\n",
        "    return model\n",
        "\n",
        "# Bidirectional LSTM\n",
        "def get_model_rnn_bidi(shape):\n",
        "    inp = Input(shape)\n",
        "    x = Bidirectional(LSTM(64, return_sequences=False))(inp)\n",
        "    x = Dense(1)(x)\n",
        "\n",
        "    model = Model(inp, x)\n",
        "    return model\n",
        "\n",
        "# Stack LSTM\n",
        "def get_model_rnn_stack(shape):\n",
        "    inp = Input(shape)\n",
        "    x = LSTM(64, return_sequences=True)(inp)\n",
        "    x = LSTM(64, return_sequences=False)(x)\n",
        "    x = Dense(1)(x)\n",
        "\n",
        "    model = Model(inp, x)\n",
        "    return model\n",
        "\n",
        "# Conv1d LSTM\n",
        "def get_model_rnn_conv(shape):\n",
        "    inp = Input(shape)\n",
        "    x = Conv1D(32, kernel_size=3, strides=1)(inp)\n",
        "    x = LSTM(64, return_sequences=False)(x)\n",
        "    x = Dense(1)(x)\n",
        "\n",
        "    model = Model(inp, x)\n",
        "    return model\n",
        "\n",
        "# LSTM model that will be trained with clipped gradient\n",
        "def get_model_rnn_clipped(shape):\n",
        "    inp = Input(shape)\n",
        "    x = LSTM(64, return_sequences=False)(inp)\n",
        "    x = Dense(1)(x)\n",
        "\n",
        "    model = Model(inp, x)\n",
        "    return model\n",
        "\n",
        "# Can provide stats of each one if you want"
      ],
      "execution_count": 0,
      "outputs": []
    },
    {
      "cell_type": "code",
      "metadata": {
        "id": "GncEFABfzhNU",
        "colab_type": "code",
        "colab": {
          "base_uri": "https://localhost:8080/",
          "height": 295
        },
        "outputId": "391d19c1-4a4f-43bc-eef3-0503e010f42f"
      },
      "source": [
        "model_dense = get_model_dense((series_length, dims))\n",
        "model_dense.summary()"
      ],
      "execution_count": 36,
      "outputs": [
        {
          "output_type": "stream",
          "text": [
            "Model: \"model\"\n",
            "_________________________________________________________________\n",
            "Layer (type)                 Output Shape              Param #   \n",
            "=================================================================\n",
            "input_1 (InputLayer)         [(None, 19, 22)]          0         \n",
            "_________________________________________________________________\n",
            "flatten (Flatten)            (None, 418)               0         \n",
            "_________________________________________________________________\n",
            "dense (Dense)                (None, 64)                26816     \n",
            "_________________________________________________________________\n",
            "dense_1 (Dense)              (None, 1)                 65        \n",
            "=================================================================\n",
            "Total params: 26,881\n",
            "Trainable params: 26,881\n",
            "Non-trainable params: 0\n",
            "_________________________________________________________________\n"
          ],
          "name": "stdout"
        }
      ]
    },
    {
      "cell_type": "code",
      "metadata": {
        "id": "7R6M1fH9zg5q",
        "colab_type": "code",
        "colab": {
          "base_uri": "https://localhost:8080/",
          "height": 260
        },
        "outputId": "12c90f67-aedc-4883-c81f-e1913f9ec588"
      },
      "source": [
        "model_rnn = get_model_rnn((series_length, dims))\n",
        "model_rnn.summary()"
      ],
      "execution_count": 37,
      "outputs": [
        {
          "output_type": "stream",
          "text": [
            "Model: \"model_1\"\n",
            "_________________________________________________________________\n",
            "Layer (type)                 Output Shape              Param #   \n",
            "=================================================================\n",
            "input_2 (InputLayer)         [(None, 19, 22)]          0         \n",
            "_________________________________________________________________\n",
            "lstm (LSTM)                  (None, 64)                22272     \n",
            "_________________________________________________________________\n",
            "dense_2 (Dense)              (None, 1)                 65        \n",
            "=================================================================\n",
            "Total params: 22,337\n",
            "Trainable params: 22,337\n",
            "Non-trainable params: 0\n",
            "_________________________________________________________________\n"
          ],
          "name": "stdout"
        }
      ]
    },
    {
      "cell_type": "code",
      "metadata": {
        "id": "jYhwFbphzgHf",
        "colab_type": "code",
        "colab": {
          "base_uri": "https://localhost:8080/",
          "height": 260
        },
        "outputId": "8bab853d-0c9f-4973-cfb6-9354eb76dbb6"
      },
      "source": [
        "model_rnn_bidi = get_model_rnn_bidi((series_length, dims))\n",
        "model_rnn_bidi.summary()"
      ],
      "execution_count": 38,
      "outputs": [
        {
          "output_type": "stream",
          "text": [
            "Model: \"model_2\"\n",
            "_________________________________________________________________\n",
            "Layer (type)                 Output Shape              Param #   \n",
            "=================================================================\n",
            "input_3 (InputLayer)         [(None, 19, 22)]          0         \n",
            "_________________________________________________________________\n",
            "bidirectional (Bidirectional (None, 128)               44544     \n",
            "_________________________________________________________________\n",
            "dense_3 (Dense)              (None, 1)                 129       \n",
            "=================================================================\n",
            "Total params: 44,673\n",
            "Trainable params: 44,673\n",
            "Non-trainable params: 0\n",
            "_________________________________________________________________\n"
          ],
          "name": "stdout"
        }
      ]
    },
    {
      "cell_type": "code",
      "metadata": {
        "id": "piez69tkzgyz",
        "colab_type": "code",
        "colab": {
          "base_uri": "https://localhost:8080/",
          "height": 295
        },
        "outputId": "085ca0ec-40f4-44a7-ad39-573400d5fe80"
      },
      "source": [
        "model_rnn_stack = get_model_rnn_stack((series_length, dims))\n",
        "model_rnn_stack.summary()"
      ],
      "execution_count": 39,
      "outputs": [
        {
          "output_type": "stream",
          "text": [
            "Model: \"model_3\"\n",
            "_________________________________________________________________\n",
            "Layer (type)                 Output Shape              Param #   \n",
            "=================================================================\n",
            "input_4 (InputLayer)         [(None, 19, 22)]          0         \n",
            "_________________________________________________________________\n",
            "lstm_2 (LSTM)                (None, 19, 64)            22272     \n",
            "_________________________________________________________________\n",
            "lstm_3 (LSTM)                (None, 64)                33024     \n",
            "_________________________________________________________________\n",
            "dense_4 (Dense)              (None, 1)                 65        \n",
            "=================================================================\n",
            "Total params: 55,361\n",
            "Trainable params: 55,361\n",
            "Non-trainable params: 0\n",
            "_________________________________________________________________\n"
          ],
          "name": "stdout"
        }
      ]
    },
    {
      "cell_type": "code",
      "metadata": {
        "_uuid": "c07de41ac64519ae7c90f619fe2fc277190ae531",
        "id": "0fsFch6mtm3h",
        "colab_type": "code",
        "colab": {
          "base_uri": "https://localhost:8080/",
          "height": 295
        },
        "outputId": "4ae5aecd-755f-402a-c78e-5c58dc411e70"
      },
      "source": [
        "model_rnn_conv = get_model_rnn_conv((series_length, dims))\n",
        "model_rnn_conv.summary()\n"
      ],
      "execution_count": 40,
      "outputs": [
        {
          "output_type": "stream",
          "text": [
            "Model: \"model_4\"\n",
            "_________________________________________________________________\n",
            "Layer (type)                 Output Shape              Param #   \n",
            "=================================================================\n",
            "input_5 (InputLayer)         [(None, 19, 22)]          0         \n",
            "_________________________________________________________________\n",
            "conv1d (Conv1D)              (None, 17, 32)            2144      \n",
            "_________________________________________________________________\n",
            "lstm_4 (LSTM)                (None, 64)                24832     \n",
            "_________________________________________________________________\n",
            "dense_5 (Dense)              (None, 1)                 65        \n",
            "=================================================================\n",
            "Total params: 27,041\n",
            "Trainable params: 27,041\n",
            "Non-trainable params: 0\n",
            "_________________________________________________________________\n"
          ],
          "name": "stdout"
        }
      ]
    },
    {
      "cell_type": "code",
      "metadata": {
        "id": "Fh6--1lfie6k",
        "colab_type": "code",
        "colab": {}
      },
      "source": [
        "model_rnn_clipped = get_model_rnn_conv((series_length, dims))"
      ],
      "execution_count": 0,
      "outputs": []
    },
    {
      "cell_type": "code",
      "metadata": {
        "_uuid": "721d82f080180c5b2e4da8c90aea7a8fadb7af5a",
        "id": "3HkJBPNdtm3n",
        "colab_type": "code",
        "colab": {}
      },
      "source": [
        "from tensorflow.keras.optimizers import SGD\n",
        "\n",
        "sgd = SGD(lr=0.01, momentum=0.9, nesterov=True)\n",
        "sgd_clipped = SGD(lr=0.01, momentum=0.9, nesterov=True, clipvalue = 1)\n",
        "model_dense.compile(sgd, loss='mae')\n",
        "model_rnn.compile(sgd, loss='mae')\n",
        "model_rnn_stack.compile(sgd, loss='mae')\n",
        "model_rnn_bidi.compile(sgd, loss='mae')\n",
        "model_rnn_conv.compile(sgd, loss='mae')\n",
        "model_rnn_clipped.compile(sgd_clipped, loss='mae')"
      ],
      "execution_count": 0,
      "outputs": []
    },
    {
      "cell_type": "code",
      "metadata": {
        "_uuid": "d2f7e5805f71bd720fcd845e07b6dce9ab685962",
        "id": "4bh0AJXwtm3t",
        "colab_type": "code",
        "colab": {
          "base_uri": "https://localhost:8080/",
          "height": 208
        },
        "outputId": "06adc01a-b8ec-4235-e30d-713ee6f9bc38"
      },
      "source": [
        "model_dense.fit(X_train, y_train, batch_size=32, epochs=5, verbose=1)"
      ],
      "execution_count": 59,
      "outputs": [
        {
          "output_type": "stream",
          "text": [
            "Epoch 1/5\n",
            "437/437 [==============================] - 1s 1ms/step - loss: 2.1051\n",
            "Epoch 2/5\n",
            "437/437 [==============================] - 1s 1ms/step - loss: 2.0770\n",
            "Epoch 3/5\n",
            "437/437 [==============================] - 1s 1ms/step - loss: 2.0542\n",
            "Epoch 4/5\n",
            "437/437 [==============================] - 1s 1ms/step - loss: 2.0298\n",
            "Epoch 5/5\n",
            "437/437 [==============================] - 1s 1ms/step - loss: 2.0073\n"
          ],
          "name": "stdout"
        },
        {
          "output_type": "execute_result",
          "data": {
            "text/plain": [
              "<tensorflow.python.keras.callbacks.History at 0x7f70d4d8a748>"
            ]
          },
          "metadata": {
            "tags": []
          },
          "execution_count": 59
        }
      ]
    },
    {
      "cell_type": "code",
      "metadata": {
        "id": "jD01o33Dtm30",
        "colab_type": "code",
        "colab": {
          "base_uri": "https://localhost:8080/",
          "height": 208
        },
        "outputId": "205ceacd-6ffe-4f82-d0e6-3fa86dafbfba"
      },
      "source": [
        "model_rnn.fit(X_train, y_train, batch_size=32, epochs=5, verbose=1)"
      ],
      "execution_count": 60,
      "outputs": [
        {
          "output_type": "stream",
          "text": [
            "Epoch 1/5\n",
            "437/437 [==============================] - 5s 11ms/step - loss: 2.0726\n",
            "Epoch 2/5\n",
            "437/437 [==============================] - 7s 15ms/step - loss: 2.0527\n",
            "Epoch 3/5\n",
            "437/437 [==============================] - 4s 10ms/step - loss: 2.0343\n",
            "Epoch 4/5\n",
            "437/437 [==============================] - 4s 10ms/step - loss: 2.0248\n",
            "Epoch 5/5\n",
            "437/437 [==============================] - 4s 10ms/step - loss: 2.0120\n"
          ],
          "name": "stdout"
        },
        {
          "output_type": "execute_result",
          "data": {
            "text/plain": [
              "<tensorflow.python.keras.callbacks.History at 0x7f70d4d3a978>"
            ]
          },
          "metadata": {
            "tags": []
          },
          "execution_count": 60
        }
      ]
    },
    {
      "cell_type": "code",
      "metadata": {
        "id": "pyoiNjSA0Lo6",
        "colab_type": "code",
        "colab": {
          "base_uri": "https://localhost:8080/",
          "height": 208
        },
        "outputId": "20274d71-8d68-49a9-c051-1e113b669f4b"
      },
      "source": [
        "model_rnn_bidi.fit(X_train, y_train, batch_size=32, epochs=5, verbose=1)"
      ],
      "execution_count": 61,
      "outputs": [
        {
          "output_type": "stream",
          "text": [
            "Epoch 1/5\n",
            "437/437 [==============================] - 7s 16ms/step - loss: 2.0667\n",
            "Epoch 2/5\n",
            "437/437 [==============================] - 7s 16ms/step - loss: 2.0453\n",
            "Epoch 3/5\n",
            "437/437 [==============================] - 7s 16ms/step - loss: 2.0187\n",
            "Epoch 4/5\n",
            "437/437 [==============================] - 7s 16ms/step - loss: 1.9971\n",
            "Epoch 5/5\n",
            "437/437 [==============================] - 7s 16ms/step - loss: 1.9943\n"
          ],
          "name": "stdout"
        },
        {
          "output_type": "execute_result",
          "data": {
            "text/plain": [
              "<tensorflow.python.keras.callbacks.History at 0x7f70d417ba20>"
            ]
          },
          "metadata": {
            "tags": []
          },
          "execution_count": 61
        }
      ]
    },
    {
      "cell_type": "code",
      "metadata": {
        "id": "qS6AvRzl0L0L",
        "colab_type": "code",
        "colab": {
          "base_uri": "https://localhost:8080/",
          "height": 208
        },
        "outputId": "279d049c-a104-4aeb-9630-ad2a202852ed"
      },
      "source": [
        "model_rnn_stack.fit(X_train, y_train, batch_size=32, epochs=5, verbose=1) "
      ],
      "execution_count": 62,
      "outputs": [
        {
          "output_type": "stream",
          "text": [
            "Epoch 1/5\n",
            "437/437 [==============================] - 9s 21ms/step - loss: 2.0784\n",
            "Epoch 2/5\n",
            "437/437 [==============================] - 9s 21ms/step - loss: 2.0574\n",
            "Epoch 3/5\n",
            "437/437 [==============================] - 9s 21ms/step - loss: 2.0379\n",
            "Epoch 4/5\n",
            "437/437 [==============================] - 9s 21ms/step - loss: 2.0253\n",
            "Epoch 5/5\n",
            "437/437 [==============================] - 9s 21ms/step - loss: 2.0232\n"
          ],
          "name": "stdout"
        },
        {
          "output_type": "execute_result",
          "data": {
            "text/plain": [
              "<tensorflow.python.keras.callbacks.History at 0x7f70d323d0b8>"
            ]
          },
          "metadata": {
            "tags": []
          },
          "execution_count": 62
        }
      ]
    },
    {
      "cell_type": "code",
      "metadata": {
        "id": "D3NyU7le0LX1",
        "colab_type": "code",
        "colab": {
          "base_uri": "https://localhost:8080/",
          "height": 208
        },
        "outputId": "27495e33-c248-466d-a70e-d20dfbe9e56f"
      },
      "source": [
        "model_rnn_conv.fit(X_train, y_train, batch_size=32, epochs=5, verbose=1)"
      ],
      "execution_count": 63,
      "outputs": [
        {
          "output_type": "stream",
          "text": [
            "Epoch 1/5\n",
            "437/437 [==============================] - 5s 12ms/step - loss: 2.0888\n",
            "Epoch 2/5\n",
            "437/437 [==============================] - 5s 11ms/step - loss: 2.0823\n",
            "Epoch 3/5\n",
            "437/437 [==============================] - 5s 11ms/step - loss: 2.0567\n",
            "Epoch 4/5\n",
            "437/437 [==============================] - 5s 12ms/step - loss: 2.0431\n",
            "Epoch 5/5\n",
            "437/437 [==============================] - 5s 11ms/step - loss: 2.0388\n"
          ],
          "name": "stdout"
        },
        {
          "output_type": "execute_result",
          "data": {
            "text/plain": [
              "<tensorflow.python.keras.callbacks.History at 0x7f70d1be0080>"
            ]
          },
          "metadata": {
            "tags": []
          },
          "execution_count": 63
        }
      ]
    },
    {
      "cell_type": "code",
      "metadata": {
        "id": "tFUOl2sNimoA",
        "colab_type": "code",
        "colab": {
          "base_uri": "https://localhost:8080/",
          "height": 208
        },
        "outputId": "e5b58c6a-a094-408a-c308-8b3d45a24327"
      },
      "source": [
        "model_rnn_clipped.fit(X_train, y_train, batch_size=32, epochs=5, verbose=1)"
      ],
      "execution_count": 64,
      "outputs": [
        {
          "output_type": "stream",
          "text": [
            "Epoch 1/5\n",
            "437/437 [==============================] - 5s 12ms/step - loss: 2.0810\n",
            "Epoch 2/5\n",
            "437/437 [==============================] - 5s 11ms/step - loss: 2.0750\n",
            "Epoch 3/5\n",
            "437/437 [==============================] - 5s 11ms/step - loss: 2.0693\n",
            "Epoch 4/5\n",
            "437/437 [==============================] - 5s 12ms/step - loss: 2.0527\n",
            "Epoch 5/5\n",
            "437/437 [==============================] - 5s 11ms/step - loss: 2.0239\n"
          ],
          "name": "stdout"
        },
        {
          "output_type": "execute_result",
          "data": {
            "text/plain": [
              "<tensorflow.python.keras.callbacks.History at 0x7f70d184a588>"
            ]
          },
          "metadata": {
            "tags": []
          },
          "execution_count": 64
        }
      ]
    },
    {
      "cell_type": "code",
      "metadata": {
        "id": "4Jw6Xl8otm39",
        "colab_type": "code",
        "colab": {
          "base_uri": "https://localhost:8080/",
          "height": 121
        },
        "outputId": "7bc24836-1216-4cdc-e7c4-5b226e9a6e65"
      },
      "source": [
        "val_preds_dense = model_dense.predict(X_val, batch_size=32, verbose=1)\n",
        "val_preds_rnn = model_rnn.predict(X_val, batch_size=32, verbose=1)\n",
        "val_preds_rnn_bidi = model_rnn_bidi.predict(X_val, batch_size=32, verbose=1)\n",
        "val_preds_rnn_stack = model_rnn_stack.predict(X_val, batch_size=32, verbose=1)\n",
        "val_preds_rnn_conv = model_rnn_conv.predict(X_val, batch_size=32, verbose=1)\n",
        "val_preds_rnn_clipped = model_rnn_clipped.predict(X_val, batch_size=32, verbose=1)"
      ],
      "execution_count": 71,
      "outputs": [
        {
          "output_type": "stream",
          "text": [
            "110/110 [==============================] - 0s 1ms/step\n",
            "110/110 [==============================] - 0s 4ms/step\n",
            "110/110 [==============================] - 1s 5ms/step\n",
            "110/110 [==============================] - 1s 7ms/step\n",
            "110/110 [==============================] - 0s 4ms/step\n",
            "110/110 [==============================] - 0s 4ms/step\n"
          ],
          "name": "stdout"
        }
      ]
    },
    {
      "cell_type": "code",
      "metadata": {
        "id": "A7pFiKh5tm4O",
        "colab_type": "code",
        "colab": {}
      },
      "source": [
        "absolute_error_dense = abs(y_val-val_preds_dense[:, 0])\n",
        "absolute_error_rnn = abs(y_val-val_preds_rnn[:, 0])\n",
        "absolute_error_rnn_bidi = abs(y_val-val_preds_rnn_bidi[:, 0])\n",
        "absolute_error_rnn_stack = abs(y_val-val_preds_rnn_stack[:, 0])\n",
        "absolute_error_rnn_conv = abs(y_val-val_preds_rnn_conv[:, 0])\n",
        "absolute_error_rnn_clipped = abs(y_val-val_preds_rnn_clipped[:, 0])"
      ],
      "execution_count": 0,
      "outputs": []
    },
    {
      "cell_type": "code",
      "metadata": {
        "id": "3j_R8wDptm4U",
        "colab_type": "code",
        "colab": {}
      },
      "source": [
        "errors = pd.DataFrame(np.stack((absolute_error_dense, absolute_error_rnn, \n",
        "                                absolute_error_rnn_bidi, absolute_error_rnn_stack, \n",
        "                                absolute_error_rnn_conv, absolute_error_rnn_clipped), 1), \n",
        "                      columns=[\"dense\", \"rnn\", \"rnn bidi\", \"rnn stack\", \"rnn conv\", \"rnn clipped\"])"
      ],
      "execution_count": 0,
      "outputs": []
    },
    {
      "cell_type": "code",
      "metadata": {
        "id": "QSAJs9I_tm4Z",
        "colab_type": "code",
        "colab": {
          "base_uri": "https://localhost:8080/",
          "height": 294
        },
        "outputId": "8ae2af90-1511-4213-be39-9f04d43804b0"
      },
      "source": [
        "errors.describe()"
      ],
      "execution_count": 74,
      "outputs": [
        {
          "output_type": "execute_result",
          "data": {
            "text/html": [
              "<div>\n",
              "<style scoped>\n",
              "    .dataframe tbody tr th:only-of-type {\n",
              "        vertical-align: middle;\n",
              "    }\n",
              "\n",
              "    .dataframe tbody tr th {\n",
              "        vertical-align: top;\n",
              "    }\n",
              "\n",
              "    .dataframe thead th {\n",
              "        text-align: right;\n",
              "    }\n",
              "</style>\n",
              "<table border=\"1\" class=\"dataframe\">\n",
              "  <thead>\n",
              "    <tr style=\"text-align: right;\">\n",
              "      <th></th>\n",
              "      <th>dense</th>\n",
              "      <th>rnn</th>\n",
              "      <th>rnn bidi</th>\n",
              "      <th>rnn stack</th>\n",
              "      <th>rnn conv</th>\n",
              "      <th>rnn clipped</th>\n",
              "    </tr>\n",
              "  </thead>\n",
              "  <tbody>\n",
              "    <tr>\n",
              "      <th>count</th>\n",
              "      <td>3494.000000</td>\n",
              "      <td>3494.000000</td>\n",
              "      <td>3494.000000</td>\n",
              "      <td>3494.000000</td>\n",
              "      <td>3494.000000</td>\n",
              "      <td>3494.000000</td>\n",
              "    </tr>\n",
              "    <tr>\n",
              "      <th>mean</th>\n",
              "      <td>2.218558</td>\n",
              "      <td>1.970323</td>\n",
              "      <td>1.955470</td>\n",
              "      <td>2.025149</td>\n",
              "      <td>2.032951</td>\n",
              "      <td>2.121872</td>\n",
              "    </tr>\n",
              "    <tr>\n",
              "      <th>std</th>\n",
              "      <td>3.950146</td>\n",
              "      <td>3.641677</td>\n",
              "      <td>3.582630</td>\n",
              "      <td>3.766535</td>\n",
              "      <td>3.853634</td>\n",
              "      <td>3.577072</td>\n",
              "    </tr>\n",
              "    <tr>\n",
              "      <th>min</th>\n",
              "      <td>0.000452</td>\n",
              "      <td>0.000407</td>\n",
              "      <td>0.000285</td>\n",
              "      <td>0.000344</td>\n",
              "      <td>0.000117</td>\n",
              "      <td>0.000492</td>\n",
              "    </tr>\n",
              "    <tr>\n",
              "      <th>25%</th>\n",
              "      <td>0.414624</td>\n",
              "      <td>0.214678</td>\n",
              "      <td>0.317151</td>\n",
              "      <td>0.373774</td>\n",
              "      <td>0.320270</td>\n",
              "      <td>0.304884</td>\n",
              "    </tr>\n",
              "    <tr>\n",
              "      <th>50%</th>\n",
              "      <td>0.974535</td>\n",
              "      <td>0.655499</td>\n",
              "      <td>0.711318</td>\n",
              "      <td>0.710446</td>\n",
              "      <td>0.678142</td>\n",
              "      <td>0.777964</td>\n",
              "    </tr>\n",
              "    <tr>\n",
              "      <th>75%</th>\n",
              "      <td>1.989411</td>\n",
              "      <td>1.963347</td>\n",
              "      <td>1.776480</td>\n",
              "      <td>1.811859</td>\n",
              "      <td>1.814374</td>\n",
              "      <td>2.306931</td>\n",
              "    </tr>\n",
              "    <tr>\n",
              "      <th>max</th>\n",
              "      <td>40.752519</td>\n",
              "      <td>37.765267</td>\n",
              "      <td>38.335264</td>\n",
              "      <td>37.875725</td>\n",
              "      <td>36.406474</td>\n",
              "      <td>37.334996</td>\n",
              "    </tr>\n",
              "  </tbody>\n",
              "</table>\n",
              "</div>"
            ],
            "text/plain": [
              "             dense          rnn     rnn bidi    rnn stack     rnn conv  \\\n",
              "count  3494.000000  3494.000000  3494.000000  3494.000000  3494.000000   \n",
              "mean      2.218558     1.970323     1.955470     2.025149     2.032951   \n",
              "std       3.950146     3.641677     3.582630     3.766535     3.853634   \n",
              "min       0.000452     0.000407     0.000285     0.000344     0.000117   \n",
              "25%       0.414624     0.214678     0.317151     0.373774     0.320270   \n",
              "50%       0.974535     0.655499     0.711318     0.710446     0.678142   \n",
              "75%       1.989411     1.963347     1.776480     1.811859     1.814374   \n",
              "max      40.752519    37.765267    38.335264    37.875725    36.406474   \n",
              "\n",
              "       rnn clipped  \n",
              "count  3494.000000  \n",
              "mean      2.121872  \n",
              "std       3.577072  \n",
              "min       0.000492  \n",
              "25%       0.304884  \n",
              "50%       0.777964  \n",
              "75%       2.306931  \n",
              "max      37.334996  "
            ]
          },
          "metadata": {
            "tags": []
          },
          "execution_count": 74
        }
      ]
    },
    {
      "cell_type": "markdown",
      "metadata": {
        "id": "JrvTqgtbtm4f",
        "colab_type": "text"
      },
      "source": [
        "More things to try:\n",
        "* more layers (stacked LSTM)\n",
        "* padding per batch instead of complete dataset (should result in faster training)\n",
        "* filtering the signal first via 1d convultion\n",
        "* different optimizer"
      ]
    },
    {
      "cell_type": "code",
      "metadata": {
        "id": "-qCHsnrktm4g",
        "colab_type": "code",
        "colab": {}
      },
      "source": [
        ""
      ],
      "execution_count": 0,
      "outputs": []
    }
  ]
}